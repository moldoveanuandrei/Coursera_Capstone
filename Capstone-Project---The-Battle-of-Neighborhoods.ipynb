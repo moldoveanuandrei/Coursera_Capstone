{
 "cells": [
  {
   "cell_type": "markdown",
   "metadata": {},
   "source": [
    "### Introduction"
   ]
  },
  {
   "cell_type": "markdown",
   "metadata": {},
   "source": [
    "\n",
    "New York City's demographics show that it is a large and ethnically diverse metropolis. It is the largest city in the United States with a long history of international immigration. New York City was home to nearly 8.5 million people in 2018, accounting for over 40% of the population of New York State and a slightly lower percentage of the New York metropolitan area, home to approximately 23.6 million. Over the last decade the city has been growing faster than the region. The New York region continues to be by far the leading metropolitan gateway for legal immigrants admitted into the United States.\n",
    "\n",
    "This final project explores the best locations for Japanese restaurants throughout the city of New York. As New York is the most diverse city in the world (800 languages are spoken in New York), it has a long tradition of different ethnical restaurants. Now when the idea of a healthy lifestyle conquered the minds of people all over the country, Japanese restaurants became extremely popular, as they offer a healthy alternative to regular American eating habits. That's why Potentially the owner of the new East European restaurant can have great success and consistent profit. However, as with any business, opening a new restaurant requires serious considerations and is more complicated than it seems from the first glance. In particular, the location of the restaurant is one of the most important factors that will affect whether it will have success or a failure. So our project will attempt to answer the questions “Where should the investor open a Japanese Restaurant?” and “Where should I go If I want great Japanese food?”"
   ]
  },
  {
   "cell_type": "markdown",
   "metadata": {},
   "source": [
    "### Data"
   ]
  },
  {
   "cell_type": "markdown",
   "metadata": {},
   "source": [
    "In order to answer the above questions, data on New York City neighborhoods, boroughs to include boundaries, latitude, longitude, restaurants, and restaurant ratings and tips are required.\n",
    "\n",
    "New York City data containing the neighborhoods and boroughs, latitudes, and longitudes will be obtained from the data source: https://cocl.us/new_york_dataset\n",
    "\n",
    "All data related to locations and quality of Italian restaurants will be obtained via the FourSquare API utilized via the Request library in Python."
   ]
  },
  {
   "cell_type": "markdown",
   "metadata": {},
   "source": [
    "### Methodology"
   ]
  },
  {
   "cell_type": "markdown",
   "metadata": {},
   "source": [
    "\n",
    "• Data will be collected from https://cocl.us/new_york_dataset and cleaned and processed into a dataframe.\n",
    "\n",
    "• FourSquare be used to locate all venues and then filtered by Japanese restaurants. Ratings, tips, and likes by users will be counted and added to the dataframe.\n",
    "\n",
    "• Data will be sorted based on rankings.\n",
    "\n",
    "• Finally, the data be will be visually assessed using graphing from Python libraries."
   ]
  },
  {
   "cell_type": "markdown",
   "metadata": {},
   "source": [
    "### Problem Statement"
   ]
  },
  {
   "cell_type": "markdown",
   "metadata": {},
   "source": [
    "What is / are the best location(s) for Japanese cuisine in New York City?\n",
    "In what Neighborhood and/or borough should the investor open a Japanese restaurant to have the best chance of being successful?\n",
    "Where would I go in New York City to have the best Japanese food?"
   ]
  },
  {
   "cell_type": "markdown",
   "metadata": {},
   "source": [
    "### Before we get the data and start exploring it, let's import all required libraries "
   ]
  },
  {
   "cell_type": "code",
   "execution_count": 1,
   "metadata": {},
   "outputs": [
    {
     "name": "stdout",
     "output_type": "stream",
     "text": [
      "Collecting package metadata (current_repodata.json): ...working... done\n",
      "Solving environment: ...working... done\n",
      "\n",
      "## Package Plan ##\n",
      "\n",
      "  environment location: C:\\Users\\Andrei\\anaconda3\n",
      "\n",
      "  added / updated specs:\n",
      "    - folium=0.5.0\n",
      "\n",
      "\n",
      "The following packages will be downloaded:\n",
      "\n",
      "    package                    |            build\n",
      "    ---------------------------|-----------------\n",
      "    conda-4.8.4                |   py37hc8dfbb8_2         3.1 MB  conda-forge\n",
      "    ------------------------------------------------------------\n",
      "                                           Total:         3.1 MB\n",
      "\n",
      "The following packages will be UPDATED:\n",
      "\n",
      "  conda                        anaconda::conda-4.8.3-py37_0 --> conda-forge::conda-4.8.4-py37hc8dfbb8_2\n",
      "\n",
      "\n",
      "\n",
      "Downloading and Extracting Packages\n",
      "\n",
      "conda-4.8.4          | 3.1 MB    |            |   0% \n",
      "conda-4.8.4          | 3.1 MB    | 1          |   1% \n",
      "conda-4.8.4          | 3.1 MB    | ########8  |  89% \n",
      "conda-4.8.4          | 3.1 MB    | ########## | 100% \n",
      "Preparing transaction: ...working... done\n",
      "Verifying transaction: ...working... done\n",
      "Executing transaction: ...working... done\n"
     ]
    },
    {
     "ename": "ModuleNotFoundError",
     "evalue": "No module named 'geopy'",
     "output_type": "error",
     "traceback": [
      "\u001b[1;31m---------------------------------------------------------------------------\u001b[0m",
      "\u001b[1;31mModuleNotFoundError\u001b[0m                       Traceback (most recent call last)",
      "\u001b[1;32m<ipython-input-1-2dd7a0515098>\u001b[0m in \u001b[0;36m<module>\u001b[1;34m\u001b[0m\n\u001b[0;32m     14\u001b[0m \u001b[1;33m\u001b[0m\u001b[0m\n\u001b[0;32m     15\u001b[0m \u001b[1;31m#!conda install -c conda-forge geopy --yes\u001b[0m\u001b[1;33m\u001b[0m\u001b[1;33m\u001b[0m\u001b[1;33m\u001b[0m\u001b[0m\n\u001b[1;32m---> 16\u001b[1;33m \u001b[1;32mfrom\u001b[0m \u001b[0mgeopy\u001b[0m\u001b[1;33m.\u001b[0m\u001b[0mgeocoders\u001b[0m \u001b[1;32mimport\u001b[0m \u001b[0mNominatim\u001b[0m \u001b[1;31m# convert an address into latitude and longitude values\u001b[0m\u001b[1;33m\u001b[0m\u001b[1;33m\u001b[0m\u001b[0m\n\u001b[0m\u001b[0;32m     17\u001b[0m \u001b[1;32mimport\u001b[0m \u001b[0mrequests\u001b[0m \u001b[1;31m# library to handle requests\u001b[0m\u001b[1;33m\u001b[0m\u001b[1;33m\u001b[0m\u001b[0m\n\u001b[0;32m     18\u001b[0m \u001b[1;33m\u001b[0m\u001b[0m\n",
      "\u001b[1;31mModuleNotFoundError\u001b[0m: No module named 'geopy'"
     ]
    }
   ],
   "source": [
    "import numpy as np # library to handle data in a vectorized manner\n",
    "\n",
    "import pandas as pd # library for data analsysis\n",
    "pd.set_option('display.max_columns', None)\n",
    "pd.set_option('display.max_rows', None)\n",
    "\n",
    "import requests # library to handle requests\n",
    "\n",
    "#from bs4 import BeautifulSoup\n",
    "import os\n",
    "\n",
    "!conda install -c conda-forge folium=0.5.0 --yes\n",
    "import folium # map rendering library\n",
    "\n",
    "#!conda install -c conda-forge geopy --yes\n",
    "from geopy.geocoders import Nominatim # convert an address into latitude and longitude values\n",
    "import requests # library to handle requests\n",
    "\n",
    "# Matplotlib and associated plotting modules\n",
    "import matplotlib.pyplot as plt\n",
    "import matplotlib.cm as cm\n",
    "import matplotlib.colors as colors\n",
    "%matplotlib inline\n",
    "\n",
    "import seaborn as sns\n",
    "\n",
    "print('Libraries imported.')"
   ]
  },
  {
   "cell_type": "markdown",
   "metadata": {},
   "source": [
    "### My variables"
   ]
  },
  {
   "cell_type": "code",
   "execution_count": 2,
   "metadata": {},
   "outputs": [],
   "source": [
    "# Define Foursquare Credentials and Version\n",
    "\n",
    "CLIENT_ID = 'S11PRSGEWTQRPY5J2UUCIBAF4S3LPX0ZJVRQFD4VMWUTTX15' # your Foursquare ID\n",
    "CLIENT_SECRET = 'DTWYWGI5UGI24WZXGYZ0WTRFE30OK22YRCOUMLL1ZFL1YCBH' # your Foursquare Secret\n",
    "VERSION = '20180605' # Foursquare API version"
   ]
  },
  {
   "cell_type": "markdown",
   "metadata": {},
   "source": [
    "### Now let's define the functions we are going to use later in this project"
   ]
  },
  {
   "cell_type": "code",
   "execution_count": 3,
   "metadata": {},
   "outputs": [],
   "source": [
    "def geo_location(address):\n",
    "    # get geo location of address\n",
    "    geolocator = Nominatim(user_agent=\"foursquare_agent\")\n",
    "    location = geolocator.geocode(address)\n",
    "    latitude = location.latitude\n",
    "    longitude = location.longitude\n",
    "    return latitude,longitude\n",
    "def get_venues(lat,lng):\n",
    "    #set variables\n",
    "    radius=400\n",
    "    LIMIT=100\n",
    "    #url to fetch data from foursquare api\n",
    "    url = 'https://api.foursquare.com/v2/venues/explore?&client_id={}&client_secret={}&v={}&ll={},{}&radius={}&limit={}'.format(\n",
    "            CLIENT_ID, \n",
    "            CLIENT_SECRET, \n",
    "            VERSION, \n",
    "            lat, \n",
    "            lng, \n",
    "            radius, \n",
    "            LIMIT)\n",
    "    # get all the data\n",
    "    results = requests.get(url).json()\n",
    "    venue_data=results['response']['groups'][0]['items']\n",
    "    venue_details=[]\n",
    "    for row in venue_data:\n",
    "        try:\n",
    "            venue_id=row['venue']['id']\n",
    "            venue_name=row['venue']['name']\n",
    "            venue_category=row['venue']['categories'][0]['name']\n",
    "            venue_details.append([venue_id,venue_name,venue_category])\n",
    "        except KeyError:\n",
    "            pass\n",
    "    column_names=['ID','Name','Category']\n",
    "    df = pd.DataFrame(venue_details,columns=column_names)\n",
    "    return df\n",
    "def get_venue_details(venue_id):\n",
    "    #url to fetch data from foursquare api\n",
    "    url = 'https://api.foursquare.com/v2/venues/{}?&client_id={}&client_secret={}&v={}'.format(\n",
    "            venue_id,\n",
    "            CLIENT_ID, \n",
    "            CLIENT_SECRET, \n",
    "            VERSION)\n",
    "    # get all the data\n",
    "    results = requests.get(url).json()\n",
    "    print(results)\n",
    "    venue_data=results['response']['venue']\n",
    "    venue_details=[]\n",
    "    try:\n",
    "        venue_id=venue_data['id']\n",
    "        venue_name=venue_data['name']\n",
    "        venue_likes=venue_data['likes']['count']\n",
    "        venue_rating=venue_data['rating']\n",
    "        venue_tips=venue_data['tips']['count']\n",
    "        venue_details.append([venue_id,venue_name,venue_likes,venue_rating,venue_tips])\n",
    "    except KeyError:\n",
    "        pass\n",
    "    column_names=['ID','Name','Likes','Rating','Tips']\n",
    "    df = pd.DataFrame(venue_details,columns=column_names)\n",
    "    return df\n",
    "def get_new_york_data():\n",
    "    url='https://cocl.us/new_york_dataset'\n",
    "    resp=requests.get(url).json()\n",
    "    # all data is present in features label\n",
    "    features=resp['features']\n",
    "    # define the dataframe columns\n",
    "    column_names = ['Borough', 'Neighborhood', 'Latitude', 'Longitude'] \n",
    "    # instantiate the dataframe\n",
    "    new_york_data = pd.DataFrame(columns=column_names)\n",
    "    for data in features:\n",
    "        borough = data['properties']['borough'] \n",
    "        neighborhood_name = data['properties']['name']\n",
    "        neighborhood_latlon = data['geometry']['coordinates']\n",
    "        neighborhood_lat = neighborhood_latlon[1]\n",
    "        neighborhood_lon = neighborhood_latlon[0]\n",
    "        new_york_data = new_york_data.append({'Borough': borough,\n",
    "                                          'Neighborhood': neighborhood_name,\n",
    "                                          'Latitude': neighborhood_lat,\n",
    "                                          'Longitude': neighborhood_lon}, ignore_index=True)\n",
    "    return new_york_data"
   ]
  },
  {
   "cell_type": "markdown",
   "metadata": {},
   "source": [
    "### Now let's use the above codes to get our initial NYC data"
   ]
  },
  {
   "cell_type": "code",
   "execution_count": 4,
   "metadata": {},
   "outputs": [
    {
     "data": {
      "text/html": [
       "<div>\n",
       "<style scoped>\n",
       "    .dataframe tbody tr th:only-of-type {\n",
       "        vertical-align: middle;\n",
       "    }\n",
       "\n",
       "    .dataframe tbody tr th {\n",
       "        vertical-align: top;\n",
       "    }\n",
       "\n",
       "    .dataframe thead th {\n",
       "        text-align: right;\n",
       "    }\n",
       "</style>\n",
       "<table border=\"1\" class=\"dataframe\">\n",
       "  <thead>\n",
       "    <tr style=\"text-align: right;\">\n",
       "      <th></th>\n",
       "      <th>Borough</th>\n",
       "      <th>Neighborhood</th>\n",
       "      <th>Latitude</th>\n",
       "      <th>Longitude</th>\n",
       "    </tr>\n",
       "  </thead>\n",
       "  <tbody>\n",
       "    <tr>\n",
       "      <th>0</th>\n",
       "      <td>Bronx</td>\n",
       "      <td>Wakefield</td>\n",
       "      <td>40.894705</td>\n",
       "      <td>-73.847201</td>\n",
       "    </tr>\n",
       "    <tr>\n",
       "      <th>1</th>\n",
       "      <td>Bronx</td>\n",
       "      <td>Co-op City</td>\n",
       "      <td>40.874294</td>\n",
       "      <td>-73.829939</td>\n",
       "    </tr>\n",
       "    <tr>\n",
       "      <th>2</th>\n",
       "      <td>Bronx</td>\n",
       "      <td>Eastchester</td>\n",
       "      <td>40.887556</td>\n",
       "      <td>-73.827806</td>\n",
       "    </tr>\n",
       "    <tr>\n",
       "      <th>3</th>\n",
       "      <td>Bronx</td>\n",
       "      <td>Fieldston</td>\n",
       "      <td>40.895437</td>\n",
       "      <td>-73.905643</td>\n",
       "    </tr>\n",
       "    <tr>\n",
       "      <th>4</th>\n",
       "      <td>Bronx</td>\n",
       "      <td>Riverdale</td>\n",
       "      <td>40.890834</td>\n",
       "      <td>-73.912585</td>\n",
       "    </tr>\n",
       "  </tbody>\n",
       "</table>\n",
       "</div>"
      ],
      "text/plain": [
       "  Borough Neighborhood   Latitude  Longitude\n",
       "0   Bronx    Wakefield  40.894705 -73.847201\n",
       "1   Bronx   Co-op City  40.874294 -73.829939\n",
       "2   Bronx  Eastchester  40.887556 -73.827806\n",
       "3   Bronx    Fieldston  40.895437 -73.905643\n",
       "4   Bronx    Riverdale  40.890834 -73.912585"
      ]
     },
     "execution_count": 4,
     "metadata": {},
     "output_type": "execute_result"
    }
   ],
   "source": [
    "ny_data = get_new_york_data()\n",
    "ny_data.head()"
   ]
  },
  {
   "cell_type": "code",
   "execution_count": 5,
   "metadata": {},
   "outputs": [
    {
     "data": {
      "text/plain": [
       "(306, 4)"
      ]
     },
     "execution_count": 5,
     "metadata": {},
     "output_type": "execute_result"
    }
   ],
   "source": [
    "\n",
    "ny_data.shape"
   ]
  },
  {
   "cell_type": "markdown",
   "metadata": {},
   "source": [
    "So there are total of 306 different Neighborhoods in New York."
   ]
  },
  {
   "cell_type": "markdown",
   "metadata": {},
   "source": [
    "### Initial Data Analysis"
   ]
  },
  {
   "cell_type": "code",
   "execution_count": 6,
   "metadata": {},
   "outputs": [
    {
     "ename": "NameError",
     "evalue": "name 'plt' is not defined",
     "output_type": "error",
     "traceback": [
      "\u001b[1;31m---------------------------------------------------------------------------\u001b[0m",
      "\u001b[1;31mNameError\u001b[0m                                 Traceback (most recent call last)",
      "\u001b[1;32m<ipython-input-6-ca217a8524c6>\u001b[0m in \u001b[0;36m<module>\u001b[1;34m\u001b[0m\n\u001b[0;32m      1\u001b[0m \u001b[0mclr\u001b[0m \u001b[1;33m=\u001b[0m \u001b[1;34m\"green\"\u001b[0m\u001b[1;33m\u001b[0m\u001b[1;33m\u001b[0m\u001b[0m\n\u001b[0;32m      2\u001b[0m \u001b[0mny_data\u001b[0m\u001b[1;33m.\u001b[0m\u001b[0mgroupby\u001b[0m\u001b[1;33m(\u001b[0m\u001b[1;34m'Borough'\u001b[0m\u001b[1;33m)\u001b[0m\u001b[1;33m[\u001b[0m\u001b[1;34m'Neighborhood'\u001b[0m\u001b[1;33m]\u001b[0m\u001b[1;33m.\u001b[0m\u001b[0mcount\u001b[0m\u001b[1;33m(\u001b[0m\u001b[1;33m)\u001b[0m\u001b[1;33m.\u001b[0m\u001b[0mplot\u001b[0m\u001b[1;33m.\u001b[0m\u001b[0mbar\u001b[0m\u001b[1;33m(\u001b[0m\u001b[0mfigsize\u001b[0m\u001b[1;33m=\u001b[0m\u001b[1;33m(\u001b[0m\u001b[1;36m10\u001b[0m\u001b[1;33m,\u001b[0m\u001b[1;36m5\u001b[0m\u001b[1;33m)\u001b[0m\u001b[1;33m,\u001b[0m \u001b[0mcolor\u001b[0m\u001b[1;33m=\u001b[0m\u001b[0mclr\u001b[0m\u001b[1;33m)\u001b[0m\u001b[1;33m\u001b[0m\u001b[1;33m\u001b[0m\u001b[0m\n\u001b[1;32m----> 3\u001b[1;33m \u001b[0mplt\u001b[0m\u001b[1;33m.\u001b[0m\u001b[0mtitle\u001b[0m\u001b[1;33m(\u001b[0m\u001b[1;34m'Neighborhoods per Borough: NYC'\u001b[0m\u001b[1;33m,\u001b[0m \u001b[0mfontsize\u001b[0m \u001b[1;33m=\u001b[0m \u001b[1;36m20\u001b[0m\u001b[1;33m)\u001b[0m\u001b[1;33m\u001b[0m\u001b[1;33m\u001b[0m\u001b[0m\n\u001b[0m\u001b[0;32m      4\u001b[0m \u001b[0mplt\u001b[0m\u001b[1;33m.\u001b[0m\u001b[0mxlabel\u001b[0m\u001b[1;33m(\u001b[0m\u001b[1;34m'Borough'\u001b[0m\u001b[1;33m,\u001b[0m \u001b[0mfontsize\u001b[0m \u001b[1;33m=\u001b[0m \u001b[1;36m15\u001b[0m\u001b[1;33m)\u001b[0m\u001b[1;33m\u001b[0m\u001b[1;33m\u001b[0m\u001b[0m\n\u001b[0;32m      5\u001b[0m \u001b[0mplt\u001b[0m\u001b[1;33m.\u001b[0m\u001b[0mylabel\u001b[0m\u001b[1;33m(\u001b[0m\u001b[1;34m'No. Neighborhoods'\u001b[0m\u001b[1;33m,\u001b[0m\u001b[0mfontsize\u001b[0m \u001b[1;33m=\u001b[0m \u001b[1;36m15\u001b[0m\u001b[1;33m)\u001b[0m\u001b[1;33m\u001b[0m\u001b[1;33m\u001b[0m\u001b[0m\n",
      "\u001b[1;31mNameError\u001b[0m: name 'plt' is not defined"
     ]
    },
    {
     "data": {
      "image/png": "[encoded data removed]",
      "text/plain": [
       "<Figure size 720x360 with 1 Axes>"
      ]
     },
     "metadata": {
      "needs_background": "light"
     },
     "output_type": "display_data"
    }
   ],
   "source": [
    "clr = \"green\"\n",
    "ny_data.groupby('Borough')['Neighborhood'].count().plot.bar(figsize=(10,5), color=clr)\n",
    "plt.title('Neighborhoods per Borough: NYC', fontsize = 20)\n",
    "plt.xlabel('Borough', fontsize = 15)\n",
    "plt.ylabel('No. Neighborhoods',fontsize = 15)\n",
    "plt.xticks(rotation = 'horizontal')\n",
    "plt.legend()\n",
    "plt.show()"
   ]
  },
  {
   "cell_type": "markdown",
   "metadata": {},
   "source": [
    "### Let's analyze further and see how many Japanese restaurants there are in each neighborhood and borough. After it, graph the results."
   ]
  },
  {
   "cell_type": "code",
   "execution_count": 7,
   "metadata": {},
   "outputs": [
    {
     "name": "stdout",
     "output_type": "stream",
     "text": [
      "( 1 / 306 ) Japanese Restaurants in Wakefield, Bronx:0\n",
      "['Bronx', 'Wakefield', 40.89470517661, -73.84720052054902]\n",
      "( 2 / 306 ) Japanese Restaurants in Co-op City, Bronx:0\n",
      "['Bronx', 'Co-op City', 40.87429419303012, -73.82993910812398]\n",
      "( 3 / 306 ) Japanese Restaurants in Eastchester, Bronx:0\n",
      "['Bronx', 'Eastchester', 40.887555677350775, -73.82780644716412]\n",
      "( 4 / 306 ) Japanese Restaurants in Fieldston, Bronx:0\n",
      "['Bronx', 'Fieldston', 40.89543742690383, -73.90564259591682]\n",
      "( 5 / 306 ) Japanese Restaurants in Riverdale, Bronx:0\n",
      "['Bronx', 'Riverdale', 40.890834493891305, -73.9125854610857]\n",
      "( 6 / 306 ) Japanese Restaurants in Kingsbridge, Bronx:0\n",
      "['Bronx', 'Kingsbridge', 40.88168737120521, -73.90281798724604]\n",
      "( 7 / 306 ) Japanese Restaurants in Marble Hill, Manhattan:0\n",
      "['Manhattan', 'Marble Hill', 40.87655077879964, -73.91065965862981]\n",
      "( 8 / 306 ) Japanese Restaurants in Woodlawn, Bronx:0\n",
      "['Bronx', 'Woodlawn', 40.89827261213805, -73.86731496814176]\n",
      "( 9 / 306 ) Japanese Restaurants in Norwood, Bronx:0\n",
      "['Bronx', 'Norwood', 40.87722415599446, -73.8793907395681]\n",
      "( 10 / 306 ) Japanese Restaurants in Williamsbridge, Bronx:0\n",
      "['Bronx', 'Williamsbridge', 40.88103887819211, -73.85744642974207]\n",
      "( 11 / 306 ) Japanese Restaurants in Baychester, Bronx:0\n",
      "['Bronx', 'Baychester', 40.866858107252696, -73.83579759808117]\n",
      "( 12 / 306 ) Japanese Restaurants in Pelham Parkway, Bronx:0\n",
      "['Bronx', 'Pelham Parkway', 40.85741349808865, -73.85475564017999]\n",
      "( 13 / 306 ) Japanese Restaurants in City Island, Bronx:0\n",
      "['Bronx', 'City Island', 40.84724670491813, -73.78648845267413]\n",
      "( 14 / 306 ) Japanese Restaurants in Bedford Park, Bronx:0\n",
      "['Bronx', 'Bedford Park', 40.870185164975325, -73.8855121841913]\n",
      "( 15 / 306 ) Japanese Restaurants in University Heights, Bronx:0\n",
      "['Bronx', 'University Heights', 40.85572707719664, -73.9104159619131]\n",
      "( 16 / 306 ) Japanese Restaurants in Morris Heights, Bronx:0\n",
      "['Bronx', 'Morris Heights', 40.84789792606271, -73.91967159119565]\n",
      "( 17 / 306 ) Japanese Restaurants in Fordham, Bronx:0\n",
      "['Bronx', 'Fordham', 40.86099679638654, -73.89642655981623]\n",
      "( 18 / 306 ) Japanese Restaurants in East Tremont, Bronx:0\n",
      "['Bronx', 'East Tremont', 40.84269615786053, -73.88735617532338]\n",
      "( 19 / 306 ) Japanese Restaurants in West Farms, Bronx:0\n",
      "['Bronx', 'West Farms', 40.83947505672653, -73.87774474910545]\n",
      "( 20 / 306 ) Japanese Restaurants in High  Bridge, Bronx:0\n",
      "['Bronx', 'High  Bridge', 40.836623010706056, -73.9261020935813]\n",
      "( 21 / 306 ) Japanese Restaurants in Melrose, Bronx:0\n",
      "['Bronx', 'Melrose', 40.819754370594936, -73.90942160757436]\n",
      "( 22 / 306 ) Japanese Restaurants in Mott Haven, Bronx:0\n",
      "['Bronx', 'Mott Haven', 40.80623874935177, -73.91609987487575]\n",
      "( 23 / 306 ) Japanese Restaurants in Port Morris, Bronx:0\n",
      "['Bronx', 'Port Morris', 40.801663627756206, -73.91322139386135]\n",
      "( 24 / 306 ) Japanese Restaurants in Longwood, Bronx:0\n",
      "['Bronx', 'Longwood', 40.81509904545822, -73.8957882009446]\n",
      "( 25 / 306 ) Japanese Restaurants in Hunts Point, Bronx:0\n",
      "['Bronx', 'Hunts Point', 40.80972987938709, -73.88331505955291]\n",
      "( 26 / 306 ) Japanese Restaurants in Morrisania, Bronx:0\n",
      "['Bronx', 'Morrisania', 40.82359198585534, -73.90150648943059]\n",
      "( 27 / 306 ) Japanese Restaurants in Soundview, Bronx:0\n",
      "['Bronx', 'Soundview', 40.821012197914015, -73.86574609554924]\n",
      "( 28 / 306 ) Japanese Restaurants in Clason Point, Bronx:0\n",
      "['Bronx', 'Clason Point', 40.80655112003589, -73.85414416189266]\n",
      "( 29 / 306 ) Japanese Restaurants in Throgs Neck, Bronx:0\n",
      "['Bronx', 'Throgs Neck', 40.81510925804005, -73.81635002158441]\n",
      "( 30 / 306 ) Japanese Restaurants in Country Club, Bronx:0\n",
      "['Bronx', 'Country Club', 40.844245936947374, -73.8240992675385]\n",
      "( 31 / 306 ) Japanese Restaurants in Parkchester, Bronx:0\n",
      "['Bronx', 'Parkchester', 40.837937822267286, -73.85600310535783]\n",
      "( 32 / 306 ) Japanese Restaurants in Westchester Square, Bronx:0\n",
      "['Bronx', 'Westchester Square', 40.8406194964327, -73.84219407604444]\n",
      "( 33 / 306 ) Japanese Restaurants in Van Nest, Bronx:0\n",
      "['Bronx', 'Van Nest', 40.84360847124718, -73.8662991807561]\n",
      "( 34 / 306 ) Japanese Restaurants in Morris Park, Bronx:0\n",
      "['Bronx', 'Morris Park', 40.847549063536334, -73.85040178030421]\n",
      "( 35 / 306 ) Japanese Restaurants in Belmont, Bronx:0\n",
      "['Bronx', 'Belmont', 40.85727710073895, -73.88845196134804]\n",
      "( 36 / 306 ) Japanese Restaurants in Spuyten Duyvil, Bronx:0\n",
      "['Bronx', 'Spuyten Duyvil', 40.88139497727086, -73.91719048210393]\n",
      "( 37 / 306 ) Japanese Restaurants in North Riverdale, Bronx:0\n",
      "['Bronx', 'North Riverdale', 40.90854282950666, -73.90453054908927]\n",
      "( 38 / 306 ) Japanese Restaurants in Pelham Bay, Bronx:0\n",
      "['Bronx', 'Pelham Bay', 40.85064140940335, -73.8320737824047]\n",
      "( 39 / 306 ) Japanese Restaurants in Schuylerville, Bronx:0\n",
      "['Bronx', 'Schuylerville', 40.82657951686922, -73.82620275994073]\n",
      "( 40 / 306 ) Japanese Restaurants in Edgewater Park, Bronx:0\n",
      "['Bronx', 'Edgewater Park', 40.821986118163494, -73.81388514428619]\n",
      "( 41 / 306 ) Japanese Restaurants in Castle Hill, Bronx:0\n",
      "['Bronx', 'Castle Hill', 40.819014376988314, -73.84802729582735]\n",
      "( 42 / 306 ) Japanese Restaurants in Olinville, Bronx:0\n",
      "['Bronx', 'Olinville', 40.87137078192371, -73.86332361652777]\n",
      "( 43 / 306 ) Japanese Restaurants in Pelham Gardens, Bronx:0\n",
      "['Bronx', 'Pelham Gardens', 40.86296562477998, -73.84161194831223]\n",
      "( 44 / 306 ) Japanese Restaurants in Concourse, Bronx:0\n",
      "['Bronx', 'Concourse', 40.83428380733851, -73.91558941773444]\n",
      "( 45 / 306 ) Japanese Restaurants in Unionport, Bronx:0\n",
      "['Bronx', 'Unionport', 40.82977429787161, -73.85053524451935]\n",
      "( 46 / 306 ) Japanese Restaurants in Edenwald, Bronx:0\n",
      "['Bronx', 'Edenwald', 40.88456130303732, -73.84808271877168]\n",
      "( 47 / 306 ) Japanese Restaurants in Bay Ridge, Brooklyn:0\n",
      "['Brooklyn', 'Bay Ridge', 40.625801065010656, -74.03062069353813]\n",
      "( 48 / 306 ) Japanese Restaurants in Bensonhurst, Brooklyn:0\n",
      "['Brooklyn', 'Bensonhurst', 40.61100890202044, -73.99517998380729]\n",
      "( 49 / 306 ) Japanese Restaurants in Sunset Park, Brooklyn:0\n",
      "['Brooklyn', 'Sunset Park', 40.64510294925429, -74.01031618527784]\n",
      "( 50 / 306 ) Japanese Restaurants in Greenpoint, Brooklyn:0\n",
      "['Brooklyn', 'Greenpoint', 40.7302009848647, -73.95424093127393]\n",
      "( 51 / 306 ) Japanese Restaurants in Gravesend, Brooklyn:0\n",
      "['Brooklyn', 'Gravesend', 40.59526001306593, -73.97347087708445]\n",
      "( 52 / 306 ) Japanese Restaurants in Brighton Beach, Brooklyn:0\n",
      "['Brooklyn', 'Brighton Beach', 40.57682506566604, -73.96509448785336]\n",
      "( 53 / 306 ) Japanese Restaurants in Sheepshead Bay, Brooklyn:0\n",
      "['Brooklyn', 'Sheepshead Bay', 40.58689012678384, -73.94318640482979]\n",
      "( 54 / 306 ) Japanese Restaurants in Manhattan Terrace, Brooklyn:0\n",
      "['Brooklyn', 'Manhattan Terrace', 40.61443251335098, -73.95743840559939]\n",
      "( 55 / 306 ) Japanese Restaurants in Flatbush, Brooklyn:0\n",
      "['Brooklyn', 'Flatbush', 40.63632589026677, -73.95840106533903]\n",
      "( 56 / 306 ) Japanese Restaurants in Crown Heights, Brooklyn:0\n",
      "['Brooklyn', 'Crown Heights', 40.67082917695294, -73.94329119073582]\n",
      "( 57 / 306 ) Japanese Restaurants in East Flatbush, Brooklyn:0\n",
      "['Brooklyn', 'East Flatbush', 40.64171776668961, -73.93610256185836]\n",
      "( 58 / 306 ) Japanese Restaurants in Kensington, Brooklyn:1\n",
      "['Brooklyn', 'Kensington', 40.642381958003526, -73.98042110559474]\n",
      "( 59 / 306 ) Japanese Restaurants in Windsor Terrace, Brooklyn:0\n",
      "['Brooklyn', 'Windsor Terrace', 40.65694583575104, -73.98007340430172]\n",
      "( 60 / 306 ) Japanese Restaurants in Prospect Heights, Brooklyn:1\n",
      "['Brooklyn', 'Prospect Heights', 40.676822262254724, -73.9648592426269]\n",
      "( 61 / 306 ) Japanese Restaurants in Brownsville, Brooklyn:0\n",
      "['Brooklyn', 'Brownsville', 40.66394994339755, -73.91023536176607]\n",
      "( 62 / 306 ) Japanese Restaurants in Williamsburg, Brooklyn:1\n",
      "['Brooklyn', 'Williamsburg', 40.70714439344251, -73.95811529220927]\n",
      "( 63 / 306 ) Japanese Restaurants in Bushwick, Brooklyn:0\n",
      "['Brooklyn', 'Bushwick', 40.69811611017901, -73.92525797487045]\n",
      "( 64 / 306 ) Japanese Restaurants in Bedford Stuyvesant, Brooklyn:1\n",
      "['Brooklyn', 'Bedford Stuyvesant', 40.687231607720456, -73.94178488690297]\n",
      "( 65 / 306 ) Japanese Restaurants in Brooklyn Heights, Brooklyn:1\n",
      "['Brooklyn', 'Brooklyn Heights', 40.695863722724084, -73.99378225496424]\n",
      "( 66 / 306 ) Japanese Restaurants in Cobble Hill, Brooklyn:1\n",
      "['Brooklyn', 'Cobble Hill', 40.687919722485574, -73.99856139218463]\n",
      "( 67 / 306 ) Japanese Restaurants in Carroll Gardens, Brooklyn:0\n",
      "['Brooklyn', 'Carroll Gardens', 40.680540231076485, -73.99465372828006]\n",
      "( 68 / 306 ) Japanese Restaurants in Red Hook, Brooklyn:0\n",
      "['Brooklyn', 'Red Hook', 40.676253230250886, -74.0127589747356]\n",
      "( 69 / 306 ) Japanese Restaurants in Gowanus, Brooklyn:0\n",
      "['Brooklyn', 'Gowanus', 40.673931143187154, -73.99444087145339]\n",
      "( 70 / 306 ) Japanese Restaurants in Fort Greene, Brooklyn:1\n",
      "['Brooklyn', 'Fort Greene', 40.68852726018977, -73.97290574369092]\n",
      "( 71 / 306 ) Japanese Restaurants in Park Slope, Brooklyn:1\n",
      "['Brooklyn', 'Park Slope', 40.67232052268197, -73.97705030183924]\n",
      "( 72 / 306 ) Japanese Restaurants in Cypress Hills, Brooklyn:0\n",
      "['Brooklyn', 'Cypress Hills', 40.68239101144211, -73.87661596457296]\n",
      "( 73 / 306 ) Japanese Restaurants in East New York, Brooklyn:0\n",
      "['Brooklyn', 'East New York', 40.669925700847045, -73.88069863917366]\n",
      "( 74 / 306 ) Japanese Restaurants in Starrett City, Brooklyn:0\n",
      "['Brooklyn', 'Starrett City', 40.64758905230874, -73.87936970045875]\n",
      "( 75 / 306 ) Japanese Restaurants in Canarsie, Brooklyn:0\n",
      "['Brooklyn', 'Canarsie', 40.63556432797428, -73.90209269778966]\n",
      "( 76 / 306 ) Japanese Restaurants in Flatlands, Brooklyn:0\n",
      "['Brooklyn', 'Flatlands', 40.630446043757466, -73.92911302644674]\n",
      "( 77 / 306 ) Japanese Restaurants in Mill Island, Brooklyn:0\n",
      "['Brooklyn', 'Mill Island', 40.606336421685626, -73.90818571777423]\n",
      "( 78 / 306 ) Japanese Restaurants in Manhattan Beach, Brooklyn:0\n",
      "['Brooklyn', 'Manhattan Beach', 40.57791350308657, -73.94353722891886]\n",
      "( 79 / 306 ) Japanese Restaurants in Coney Island, Brooklyn:0\n",
      "['Brooklyn', 'Coney Island', 40.57429256471601, -73.98868295821637]\n"
     ]
    },
    {
     "ename": "KeyError",
     "evalue": "'groups'",
     "output_type": "error",
     "traceback": [
      "\u001b[1;31m---------------------------------------------------------------------------\u001b[0m",
      "\u001b[1;31mKeyError\u001b[0m                                  Traceback (most recent call last)",
      "\u001b[1;32m<ipython-input-7-006d56f50c77>\u001b[0m in \u001b[0;36m<module>\u001b[1;34m\u001b[0m\n\u001b[0;32m      6\u001b[0m \u001b[1;32mfor\u001b[0m \u001b[0mrow\u001b[0m \u001b[1;32min\u001b[0m \u001b[0mny_data\u001b[0m\u001b[1;33m.\u001b[0m\u001b[0mvalues\u001b[0m\u001b[1;33m.\u001b[0m\u001b[0mtolist\u001b[0m\u001b[1;33m(\u001b[0m\u001b[1;33m)\u001b[0m\u001b[1;33m:\u001b[0m\u001b[1;33m\u001b[0m\u001b[1;33m\u001b[0m\u001b[0m\n\u001b[0;32m      7\u001b[0m     \u001b[0mBorough\u001b[0m\u001b[1;33m,\u001b[0m \u001b[0mNeighborhood\u001b[0m\u001b[1;33m,\u001b[0m \u001b[0mLatitude\u001b[0m\u001b[1;33m,\u001b[0m \u001b[0mLongitude\u001b[0m\u001b[1;33m=\u001b[0m\u001b[0mrow\u001b[0m\u001b[1;33m\u001b[0m\u001b[1;33m\u001b[0m\u001b[0m\n\u001b[1;32m----> 8\u001b[1;33m     \u001b[0mvenues\u001b[0m \u001b[1;33m=\u001b[0m \u001b[0mget_venues\u001b[0m\u001b[1;33m(\u001b[0m\u001b[0mLatitude\u001b[0m\u001b[1;33m,\u001b[0m\u001b[0mLongitude\u001b[0m\u001b[1;33m)\u001b[0m\u001b[1;33m\u001b[0m\u001b[1;33m\u001b[0m\u001b[0m\n\u001b[0m\u001b[0;32m      9\u001b[0m     \u001b[0mjapanese_restaurants\u001b[0m\u001b[1;33m=\u001b[0m\u001b[0mvenues\u001b[0m\u001b[1;33m[\u001b[0m\u001b[0mvenues\u001b[0m\u001b[1;33m[\u001b[0m\u001b[1;34m'Category'\u001b[0m\u001b[1;33m]\u001b[0m\u001b[1;33m==\u001b[0m\u001b[1;34m'Japanese Restaurant'\u001b[0m\u001b[1;33m]\u001b[0m\u001b[1;33m\u001b[0m\u001b[1;33m\u001b[0m\u001b[0m\n\u001b[0;32m     10\u001b[0m     \u001b[0mprint\u001b[0m\u001b[1;33m(\u001b[0m\u001b[1;34m'('\u001b[0m\u001b[1;33m,\u001b[0m\u001b[0mcount\u001b[0m\u001b[1;33m,\u001b[0m\u001b[1;34m'/'\u001b[0m\u001b[1;33m,\u001b[0m\u001b[0mlen\u001b[0m\u001b[1;33m(\u001b[0m\u001b[0mny_data\u001b[0m\u001b[1;33m)\u001b[0m\u001b[1;33m,\u001b[0m\u001b[1;34m')'\u001b[0m\u001b[1;33m,\u001b[0m\u001b[1;34m'Japanese Restaurants in '\u001b[0m\u001b[1;33m+\u001b[0m\u001b[0mNeighborhood\u001b[0m\u001b[1;33m+\u001b[0m\u001b[1;34m', '\u001b[0m\u001b[1;33m+\u001b[0m\u001b[0mBorough\u001b[0m\u001b[1;33m+\u001b[0m\u001b[1;34m':'\u001b[0m\u001b[1;33m+\u001b[0m\u001b[0mstr\u001b[0m\u001b[1;33m(\u001b[0m\u001b[0mlen\u001b[0m\u001b[1;33m(\u001b[0m\u001b[0mjapanese_restaurants\u001b[0m\u001b[1;33m)\u001b[0m\u001b[1;33m)\u001b[0m\u001b[1;33m)\u001b[0m\u001b[1;33m\u001b[0m\u001b[1;33m\u001b[0m\u001b[0m\n",
      "\u001b[1;32m<ipython-input-3-ead3146b11c0>\u001b[0m in \u001b[0;36mget_venues\u001b[1;34m(lat, lng)\u001b[0m\n\u001b[0;32m     21\u001b[0m     \u001b[1;31m# get all the data\u001b[0m\u001b[1;33m\u001b[0m\u001b[1;33m\u001b[0m\u001b[1;33m\u001b[0m\u001b[0m\n\u001b[0;32m     22\u001b[0m     \u001b[0mresults\u001b[0m \u001b[1;33m=\u001b[0m \u001b[0mrequests\u001b[0m\u001b[1;33m.\u001b[0m\u001b[0mget\u001b[0m\u001b[1;33m(\u001b[0m\u001b[0murl\u001b[0m\u001b[1;33m)\u001b[0m\u001b[1;33m.\u001b[0m\u001b[0mjson\u001b[0m\u001b[1;33m(\u001b[0m\u001b[1;33m)\u001b[0m\u001b[1;33m\u001b[0m\u001b[1;33m\u001b[0m\u001b[0m\n\u001b[1;32m---> 23\u001b[1;33m     \u001b[0mvenue_data\u001b[0m\u001b[1;33m=\u001b[0m\u001b[0mresults\u001b[0m\u001b[1;33m[\u001b[0m\u001b[1;34m'response'\u001b[0m\u001b[1;33m]\u001b[0m\u001b[1;33m[\u001b[0m\u001b[1;34m'groups'\u001b[0m\u001b[1;33m]\u001b[0m\u001b[1;33m[\u001b[0m\u001b[1;36m0\u001b[0m\u001b[1;33m]\u001b[0m\u001b[1;33m[\u001b[0m\u001b[1;34m'items'\u001b[0m\u001b[1;33m]\u001b[0m\u001b[1;33m\u001b[0m\u001b[1;33m\u001b[0m\u001b[0m\n\u001b[0m\u001b[0;32m     24\u001b[0m     \u001b[0mvenue_details\u001b[0m\u001b[1;33m=\u001b[0m\u001b[1;33m[\u001b[0m\u001b[1;33m]\u001b[0m\u001b[1;33m\u001b[0m\u001b[1;33m\u001b[0m\u001b[0m\n\u001b[0;32m     25\u001b[0m     \u001b[1;32mfor\u001b[0m \u001b[0mrow\u001b[0m \u001b[1;32min\u001b[0m \u001b[0mvenue_data\u001b[0m\u001b[1;33m:\u001b[0m\u001b[1;33m\u001b[0m\u001b[1;33m\u001b[0m\u001b[0m\n",
      "\u001b[1;31mKeyError\u001b[0m: 'groups'"
     ]
    }
   ],
   "source": [
    "# queens has most neighborhoods\n",
    "# prepare neighborhood list that contains japanese restaurants\n",
    "column_names=['Borough', 'Neighborhood', 'ID','Name']\n",
    "japanese_rest_ny=pd.DataFrame(columns=column_names)\n",
    "count=1\n",
    "for row in ny_data.values.tolist():\n",
    "    Borough, Neighborhood, Latitude, Longitude=row\n",
    "    venues = get_venues(Latitude,Longitude)\n",
    "    japanese_restaurants=venues[venues['Category']=='Japanese Restaurant']   \n",
    "    print('(',count,'/',len(ny_data),')','Japanese Restaurants in '+Neighborhood+', '+Borough+':'+str(len(japanese_restaurants)))\n",
    "    print(row)\n",
    "    for resturant_detail in japanese_restaurants.values.tolist():\n",
    "        id, name , category=resturant_detail\n",
    "        japanese_rest_ny = japanese_rest_ny.append({'Borough': Borough,\n",
    "                                                'Neighborhood': Neighborhood, \n",
    "                                                'ID': id,\n",
    "                                                'Name' : name\n",
    "                                               }, ignore_index=True)\n",
    "    count+=1"
   ]
  },
  {
   "cell_type": "code",
   "execution_count": 8,
   "metadata": {},
   "outputs": [],
   "source": [
    "#japanese_rest_ny.to_csv('japanese_rest_ny_tocsv1.csv') # Save the information so far to a .csv file due to limited calls on FourSquare\n",
    "japanese_rest_ny.to_csv('japanese_rest_ny_tocsv1.csv')"
   ]
  },
  {
   "cell_type": "code",
   "execution_count": 9,
   "metadata": {},
   "outputs": [
    {
     "data": {
      "text/html": [
       "<div>\n",
       "<style scoped>\n",
       "    .dataframe tbody tr th:only-of-type {\n",
       "        vertical-align: middle;\n",
       "    }\n",
       "\n",
       "    .dataframe tbody tr th {\n",
       "        vertical-align: top;\n",
       "    }\n",
       "\n",
       "    .dataframe thead th {\n",
       "        text-align: right;\n",
       "    }\n",
       "</style>\n",
       "<table border=\"1\" class=\"dataframe\">\n",
       "  <thead>\n",
       "    <tr style=\"text-align: right;\">\n",
       "      <th></th>\n",
       "      <th>Borough</th>\n",
       "      <th>Neighborhood</th>\n",
       "      <th>ID</th>\n",
       "      <th>Name</th>\n",
       "    </tr>\n",
       "  </thead>\n",
       "  <tbody>\n",
       "    <tr>\n",
       "      <th>3</th>\n",
       "      <td>Brooklyn</td>\n",
       "      <td>Bedford Stuyvesant</td>\n",
       "      <td>5b3bcb69bfc6d0002ca9bf17</td>\n",
       "      <td>Warude</td>\n",
       "    </tr>\n",
       "    <tr>\n",
       "      <th>4</th>\n",
       "      <td>Brooklyn</td>\n",
       "      <td>Brooklyn Heights</td>\n",
       "      <td>479ccb47f964a5206b4d1fe3</td>\n",
       "      <td>Iron Chef House</td>\n",
       "    </tr>\n",
       "    <tr>\n",
       "      <th>5</th>\n",
       "      <td>Brooklyn</td>\n",
       "      <td>Cobble Hill</td>\n",
       "      <td>48a41073f964a52091511fe3</td>\n",
       "      <td>Hibino</td>\n",
       "    </tr>\n",
       "    <tr>\n",
       "      <th>6</th>\n",
       "      <td>Brooklyn</td>\n",
       "      <td>Fort Greene</td>\n",
       "      <td>5739c66c498e7ef6085cec4f</td>\n",
       "      <td>Karasu</td>\n",
       "    </tr>\n",
       "    <tr>\n",
       "      <th>7</th>\n",
       "      <td>Brooklyn</td>\n",
       "      <td>Park Slope</td>\n",
       "      <td>5276d39a498eb1a5d90096e4</td>\n",
       "      <td>Sushi Katsuei</td>\n",
       "    </tr>\n",
       "  </tbody>\n",
       "</table>\n",
       "</div>"
      ],
      "text/plain": [
       "    Borough        Neighborhood                        ID             Name\n",
       "3  Brooklyn  Bedford Stuyvesant  5b3bcb69bfc6d0002ca9bf17           Warude\n",
       "4  Brooklyn    Brooklyn Heights  479ccb47f964a5206b4d1fe3  Iron Chef House\n",
       "5  Brooklyn         Cobble Hill  48a41073f964a52091511fe3           Hibino\n",
       "6  Brooklyn         Fort Greene  5739c66c498e7ef6085cec4f           Karasu\n",
       "7  Brooklyn          Park Slope  5276d39a498eb1a5d90096e4    Sushi Katsuei"
      ]
     },
     "execution_count": 9,
     "metadata": {},
     "output_type": "execute_result"
    }
   ],
   "source": [
    "japanese_ny = pd.read_csv('japanese_rest_ny_tocsv1.csv')\n",
    "japanese_rest_ny.tail()"
   ]
  },
  {
   "cell_type": "code",
   "execution_count": 10,
   "metadata": {},
   "outputs": [
    {
     "data": {
      "text/plain": [
       "(8, 4)"
      ]
     },
     "execution_count": 10,
     "metadata": {},
     "output_type": "execute_result"
    }
   ],
   "source": [
    "japanese_rest_ny.shape"
   ]
  },
  {
   "cell_type": "code",
   "execution_count": 11,
   "metadata": {},
   "outputs": [
    {
     "ename": "NameError",
     "evalue": "name 'plt' is not defined",
     "output_type": "error",
     "traceback": [
      "\u001b[1;31m---------------------------------------------------------------------------\u001b[0m",
      "\u001b[1;31mNameError\u001b[0m                                 Traceback (most recent call last)",
      "\u001b[1;32m<ipython-input-11-a0a0a74bf4fe>\u001b[0m in \u001b[0;36m<module>\u001b[1;34m\u001b[0m\n\u001b[0;32m      1\u001b[0m \u001b[0mjapanese_rest_ny\u001b[0m\u001b[1;33m.\u001b[0m\u001b[0mgroupby\u001b[0m\u001b[1;33m(\u001b[0m\u001b[1;34m'Borough'\u001b[0m\u001b[1;33m)\u001b[0m\u001b[1;33m[\u001b[0m\u001b[1;34m'ID'\u001b[0m\u001b[1;33m]\u001b[0m\u001b[1;33m.\u001b[0m\u001b[0mcount\u001b[0m\u001b[1;33m(\u001b[0m\u001b[1;33m)\u001b[0m\u001b[1;33m.\u001b[0m\u001b[0mplot\u001b[0m\u001b[1;33m.\u001b[0m\u001b[0mbar\u001b[0m\u001b[1;33m(\u001b[0m\u001b[0mfigsize\u001b[0m\u001b[1;33m=\u001b[0m\u001b[1;33m(\u001b[0m\u001b[1;36m10\u001b[0m\u001b[1;33m,\u001b[0m\u001b[1;36m5\u001b[0m\u001b[1;33m)\u001b[0m\u001b[1;33m,\u001b[0m \u001b[0mcolor\u001b[0m\u001b[1;33m=\u001b[0m\u001b[0mclr\u001b[0m\u001b[1;33m)\u001b[0m\u001b[1;33m\u001b[0m\u001b[1;33m\u001b[0m\u001b[0m\n\u001b[1;32m----> 2\u001b[1;33m \u001b[0mplt\u001b[0m\u001b[1;33m.\u001b[0m\u001b[0mtitle\u001b[0m\u001b[1;33m(\u001b[0m\u001b[1;34m'Japanese Restaurants per Borough: NYC'\u001b[0m\u001b[1;33m,\u001b[0m \u001b[0mfontsize\u001b[0m \u001b[1;33m=\u001b[0m \u001b[1;36m20\u001b[0m\u001b[1;33m)\u001b[0m\u001b[1;33m\u001b[0m\u001b[1;33m\u001b[0m\u001b[0m\n\u001b[0m\u001b[0;32m      3\u001b[0m \u001b[0mplt\u001b[0m\u001b[1;33m.\u001b[0m\u001b[0mxlabel\u001b[0m\u001b[1;33m(\u001b[0m\u001b[1;34m'Borough'\u001b[0m\u001b[1;33m,\u001b[0m \u001b[0mfontsize\u001b[0m \u001b[1;33m=\u001b[0m \u001b[1;36m15\u001b[0m\u001b[1;33m)\u001b[0m\u001b[1;33m\u001b[0m\u001b[1;33m\u001b[0m\u001b[0m\n\u001b[0;32m      4\u001b[0m \u001b[0mplt\u001b[0m\u001b[1;33m.\u001b[0m\u001b[0mylabel\u001b[0m\u001b[1;33m(\u001b[0m\u001b[1;34m'No. of Japanese Restaurants'\u001b[0m\u001b[1;33m,\u001b[0m \u001b[0mfontsize\u001b[0m\u001b[1;33m=\u001b[0m\u001b[1;36m15\u001b[0m\u001b[1;33m)\u001b[0m\u001b[1;33m\u001b[0m\u001b[1;33m\u001b[0m\u001b[0m\n\u001b[0;32m      5\u001b[0m \u001b[0mplt\u001b[0m\u001b[1;33m.\u001b[0m\u001b[0mxticks\u001b[0m\u001b[1;33m(\u001b[0m\u001b[0mrotation\u001b[0m \u001b[1;33m=\u001b[0m \u001b[1;34m'horizontal'\u001b[0m\u001b[1;33m)\u001b[0m\u001b[1;33m\u001b[0m\u001b[1;33m\u001b[0m\u001b[0m\n",
      "\u001b[1;31mNameError\u001b[0m: name 'plt' is not defined"
     ]
    },
    {
     "data": {
      "image/png": "[encoded data removed]",
      "text/plain": [
       "<Figure size 720x360 with 1 Axes>"
      ]
     },
     "metadata": {
      "needs_background": "light"
     },
     "output_type": "display_data"
    }
   ],
   "source": [
    "japanese_rest_ny.groupby('Borough')['ID'].count().plot.bar(figsize=(10,5), color=clr)\n",
    "plt.title('Japanese Restaurants per Borough: NYC', fontsize = 20)\n",
    "plt.xlabel('Borough', fontsize = 15)\n",
    "plt.ylabel('No. of Japanese Restaurants', fontsize=15)\n",
    "plt.xticks(rotation = 'horizontal')\n",
    "plt.legend()\n",
    "plt.show()"
   ]
  },
  {
   "cell_type": "code",
   "execution_count": 12,
   "metadata": {},
   "outputs": [
    {
     "ename": "NameError",
     "evalue": "name 'plt' is not defined",
     "output_type": "error",
     "traceback": [
      "\u001b[1;31m---------------------------------------------------------------------------\u001b[0m",
      "\u001b[1;31mNameError\u001b[0m                                 Traceback (most recent call last)",
      "\u001b[1;32m<ipython-input-12-6d9e3387c3ff>\u001b[0m in \u001b[0;36m<module>\u001b[1;34m\u001b[0m\n\u001b[0;32m      1\u001b[0m \u001b[0mNOofNeigh\u001b[0m \u001b[1;33m=\u001b[0m \u001b[1;36m6\u001b[0m \u001b[1;31m# top number for graphing all the same past 6\u001b[0m\u001b[1;33m\u001b[0m\u001b[1;33m\u001b[0m\u001b[0m\n\u001b[0;32m      2\u001b[0m \u001b[0mjapanese_rest_ny\u001b[0m\u001b[1;33m.\u001b[0m\u001b[0mgroupby\u001b[0m\u001b[1;33m(\u001b[0m\u001b[1;34m'Neighborhood'\u001b[0m\u001b[1;33m)\u001b[0m\u001b[1;33m[\u001b[0m\u001b[1;34m'ID'\u001b[0m\u001b[1;33m]\u001b[0m\u001b[1;33m.\u001b[0m\u001b[0mcount\u001b[0m\u001b[1;33m(\u001b[0m\u001b[1;33m)\u001b[0m\u001b[1;33m.\u001b[0m\u001b[0mnlargest\u001b[0m\u001b[1;33m(\u001b[0m\u001b[0mNOofNeigh\u001b[0m\u001b[1;33m)\u001b[0m\u001b[1;33m.\u001b[0m\u001b[0mplot\u001b[0m\u001b[1;33m.\u001b[0m\u001b[0mbar\u001b[0m\u001b[1;33m(\u001b[0m\u001b[0mfigsize\u001b[0m\u001b[1;33m=\u001b[0m\u001b[1;33m(\u001b[0m\u001b[1;36m10\u001b[0m\u001b[1;33m,\u001b[0m\u001b[1;36m5\u001b[0m\u001b[1;33m)\u001b[0m\u001b[1;33m,\u001b[0m \u001b[0mcolor\u001b[0m\u001b[1;33m=\u001b[0m\u001b[0mclr\u001b[0m\u001b[1;33m)\u001b[0m\u001b[1;33m\u001b[0m\u001b[1;33m\u001b[0m\u001b[0m\n\u001b[1;32m----> 3\u001b[1;33m \u001b[0mplt\u001b[0m\u001b[1;33m.\u001b[0m\u001b[0mtitle\u001b[0m\u001b[1;33m(\u001b[0m\u001b[1;34m'Japanese Restaurants per Neighborhood: NYC'\u001b[0m\u001b[1;33m,\u001b[0m \u001b[0mfontsize\u001b[0m \u001b[1;33m=\u001b[0m \u001b[1;36m20\u001b[0m\u001b[1;33m)\u001b[0m\u001b[1;33m\u001b[0m\u001b[1;33m\u001b[0m\u001b[0m\n\u001b[0m\u001b[0;32m      4\u001b[0m \u001b[0mplt\u001b[0m\u001b[1;33m.\u001b[0m\u001b[0mxlabel\u001b[0m\u001b[1;33m(\u001b[0m\u001b[1;34m'Neighborhood'\u001b[0m\u001b[1;33m,\u001b[0m \u001b[0mfontsize\u001b[0m \u001b[1;33m=\u001b[0m \u001b[1;36m15\u001b[0m\u001b[1;33m)\u001b[0m\u001b[1;33m\u001b[0m\u001b[1;33m\u001b[0m\u001b[0m\n\u001b[0;32m      5\u001b[0m \u001b[0mplt\u001b[0m\u001b[1;33m.\u001b[0m\u001b[0mylabel\u001b[0m\u001b[1;33m(\u001b[0m\u001b[1;34m'No. of Japanese Restaurants'\u001b[0m\u001b[1;33m,\u001b[0m \u001b[0mfontsize\u001b[0m\u001b[1;33m=\u001b[0m\u001b[1;36m15\u001b[0m\u001b[1;33m)\u001b[0m\u001b[1;33m\u001b[0m\u001b[1;33m\u001b[0m\u001b[0m\n",
      "\u001b[1;31mNameError\u001b[0m: name 'plt' is not defined"
     ]
    },
    {
     "data": {
      "image/png": "[encoded data removed]",
      "text/plain": [
       "<Figure size 720x360 with 1 Axes>"
      ]
     },
     "metadata": {
      "needs_background": "light"
     },
     "output_type": "display_data"
    }
   ],
   "source": [
    "NOofNeigh = 6 # top number for graphing all the same past 6\n",
    "japanese_rest_ny.groupby('Neighborhood')['ID'].count().nlargest(NOofNeigh).plot.bar(figsize=(10,5), color=clr)\n",
    "plt.title('Japanese Restaurants per Neighborhood: NYC', fontsize = 20)\n",
    "plt.xlabel('Neighborhood', fontsize = 15)\n",
    "plt.ylabel('No. of Japanese Restaurants', fontsize=15)\n",
    "plt.xticks(rotation = 'horizontal')\n",
    "plt.legend()\n",
    "plt.show()"
   ]
  },
  {
   "cell_type": "code",
   "execution_count": 13,
   "metadata": {},
   "outputs": [
    {
     "data": {
      "text/html": [
       "<div>\n",
       "<style scoped>\n",
       "    .dataframe tbody tr th:only-of-type {\n",
       "        vertical-align: middle;\n",
       "    }\n",
       "\n",
       "    .dataframe tbody tr th {\n",
       "        vertical-align: top;\n",
       "    }\n",
       "\n",
       "    .dataframe thead th {\n",
       "        text-align: right;\n",
       "    }\n",
       "</style>\n",
       "<table border=\"1\" class=\"dataframe\">\n",
       "  <thead>\n",
       "    <tr style=\"text-align: right;\">\n",
       "      <th></th>\n",
       "      <th>Borough</th>\n",
       "      <th>Neighborhood</th>\n",
       "      <th>ID</th>\n",
       "      <th>Name</th>\n",
       "    </tr>\n",
       "  </thead>\n",
       "  <tbody>\n",
       "  </tbody>\n",
       "</table>\n",
       "</div>"
      ],
      "text/plain": [
       "Empty DataFrame\n",
       "Columns: [Borough, Neighborhood, ID, Name]\n",
       "Index: []"
      ]
     },
     "execution_count": 13,
     "metadata": {},
     "output_type": "execute_result"
    }
   ],
   "source": [
    "japanese_rest_ny[japanese_rest_ny['Neighborhood']=='Murray Hill']"
   ]
  },
  {
   "cell_type": "code",
   "execution_count": 14,
   "metadata": {},
   "outputs": [
    {
     "name": "stdout",
     "output_type": "stream",
     "text": [
      "{'meta': {'code': 200, 'requestId': '5f3588611aa323527d036001'}, 'response': {'venue': {'id': '4d5c12a01e43236a87eb1583', 'name': 'Sake Sushi', 'contact': {'phone': '7188515299', 'formattedPhone': '(718) 851-5299'}, 'location': {'address': '328 Church Ave', 'crossStreet': 'East 4th Street', 'lat': 40.644138, 'lng': -73.976439, 'labeledLatLngs': [{'label': 'display', 'lat': 40.644138, 'lng': -73.976439}], 'postalCode': '11218', 'cc': 'US', 'city': 'Brooklyn', 'state': 'NY', 'country': 'United States', 'formattedAddress': ['328 Church Ave (East 4th Street)', 'Brooklyn, NY 11218', 'United States']}, 'canonicalUrl': 'https://foursquare.com/v/sake-sushi/4d5c12a01e43236a87eb1583', 'categories': [{'id': '4bf58dd8d48988d111941735', 'name': 'Japanese Restaurant', 'pluralName': 'Japanese Restaurants', 'shortName': 'Japanese', 'icon': {'prefix': 'https://ss3.4sqi.net/img/categories_v2/food/japanese_', 'suffix': '.png'}, 'primary': True}], 'verified': False, 'stats': {'tipCount': 49}, 'url': 'http://sakesushiny.com', 'price': {'tier': 2, 'message': 'Moderate', 'currency': '$'}, 'hasMenu': True, 'likes': {'count': 31, 'groups': [{'type': 'others', 'count': 31, 'items': []}], 'summary': '31 Likes'}, 'dislike': False, 'ok': False, 'rating': 7.5, 'ratingColor': 'C5DE35', 'ratingSignals': 53, 'delivery': {'id': '206307', 'url': 'https://www.seamless.com/menu/sake-japanese-cuisine-328-church-ave-brooklyn/206307?affiliate=1131&utm_source=foursquare-affiliate-network&utm_medium=affiliate&utm_campaign=1131&utm_content=206307', 'provider': {'name': 'seamless', 'icon': {'prefix': 'https://fastly.4sqi.net/img/general/cap/', 'sizes': [40, 50], 'name': '/delivery_provider_seamless_20180129.png'}}}, 'menu': {'type': 'Menu', 'label': 'Menu', 'anchor': 'View Menu', 'url': 'https://foursquare.com/v/sake-sushi/4d5c12a01e43236a87eb1583/menu', 'mobileUrl': 'https://foursquare.com/v/4d5c12a01e43236a87eb1583/device_menu'}, 'allowMenuUrlEdit': True, 'beenHere': {'count': 0, 'unconfirmedCount': 0, 'marked': False, 'lastCheckinExpiredAt': 0}, 'specials': {'count': 0, 'items': []}, 'photos': {'count': 82, 'groups': [{'type': 'venue', 'name': 'Venue photos', 'count': 82, 'items': [{'id': '4f6d0988e4b0a4e20f3f77b8', 'createdAt': 1332545928, 'source': {'name': 'Foursquare for iOS', 'url': 'https://foursquare.com/download/#/iphone'}, 'prefix': 'https://fastly.4sqi.net/img/general/', 'suffix': '/Xo5PAEK9J2eNbn7Lb8-l8F8W-T1bGbPHxairx1W4OH4.jpg', 'width': 540, 'height': 540, 'user': {'id': '21368', 'firstName': 'Witold', 'lastName': 'R', 'photo': {'prefix': 'https://fastly.4sqi.net/img/user/', 'suffix': '/21368-NQUOLLSHRU54GTJ0.jpg'}}, 'visibility': 'public'}]}]}, 'reasons': {'count': 1, 'items': [{'summary': 'Lots of people like this place', 'type': 'general', 'reasonName': 'rawLikesReason'}]}, 'hereNow': {'count': 0, 'summary': 'Nobody here', 'groups': []}, 'createdAt': 1297879712, 'tips': {'count': 49, 'groups': [{'type': 'others', 'name': 'All tips', 'count': 49, 'items': [{'id': '509967b9e4b0c4f0ff00146d', 'createdAt': 1352230841, 'text': 'Great service and always fresh !', 'type': 'user', 'canonicalUrl': 'https://foursquare.com/item/509967b9e4b0c4f0ff00146d', 'lang': 'en', 'likes': {'count': 13, 'groups': [{'type': 'others', 'count': 13, 'items': []}], 'summary': '13 likes'}, 'logView': True, 'agreeCount': 13, 'disagreeCount': 0, 'todo': {'count': 0}, 'user': {'id': '11874485', 'firstName': 'Malibu', 'lastName': 'D', 'photo': {'prefix': 'https://fastly.4sqi.net/img/user/', 'suffix': '/30F5OORTAJVMXROM.jpg'}}, 'authorInteractionType': 'liked'}]}]}, 'shortUrl': 'http://4sq.com/gawW1x', 'timeZone': 'America/New_York', 'listed': {'count': 13, 'groups': [{'type': 'others', 'name': 'Lists from other people', 'count': 13, 'items': [{'id': '52082a4d11d2a646c3a9f99a', 'name': 'Kensington Noms', 'description': '', 'type': 'others', 'user': {'id': '76569', 'firstName': 'Jennifer Jenncity', 'lastName': 'A', 'photo': {'prefix': 'https://fastly.4sqi.net/img/user/', 'suffix': '/-1_1256269576148.jpg'}}, 'editable': False, 'public': True, 'collaborative': False, 'url': '/msjenncity/list/kensington-noms', 'canonicalUrl': 'https://foursquare.com/msjenncity/list/kensington-noms', 'createdAt': 1376266829, 'updatedAt': 1376267556, 'followers': {'count': 0}, 'listItems': {'count': 4, 'items': [{'id': 'v4d5c12a01e43236a87eb1583', 'createdAt': 1376266829}]}}, {'id': '5aaefbf8fd9d7366b9c54445', 'name': 'Brooklyn Spots', 'description': 'Random yummy places from all over Brooklyn', 'type': 'others', 'user': {'id': '13621701', 'firstName': 'Alissa', 'lastName': 'S', 'photo': {'prefix': 'https://fastly.4sqi.net/img/user/', 'suffix': '/GU52DSP5OTDSZ3BK.jpg'}}, 'editable': False, 'public': True, 'collaborative': False, 'url': '/user/13621701/list/brooklyn-spots', 'canonicalUrl': 'https://foursquare.com/user/13621701/list/brooklyn-spots', 'createdAt': 1521417208, 'updatedAt': 1521417208, 'photo': {'id': '4f6d0988e4b0a4e20f3f77b8', 'createdAt': 1332545928, 'prefix': 'https://fastly.4sqi.net/img/general/', 'suffix': '/Xo5PAEK9J2eNbn7Lb8-l8F8W-T1bGbPHxairx1W4OH4.jpg', 'width': 540, 'height': 540, 'user': {'id': '21368', 'firstName': 'Witold', 'lastName': 'R', 'photo': {'prefix': 'https://fastly.4sqi.net/img/user/', 'suffix': '/21368-NQUOLLSHRU54GTJ0.jpg'}}, 'visibility': 'public'}, 'followers': {'count': 0}, 'listItems': {'count': 1, 'items': [{'id': 'v4d5c12a01e43236a87eb1583', 'createdAt': 1521417208, 'photo': {'id': '4f6d0988e4b0a4e20f3f77b8', 'createdAt': 1332545928, 'prefix': 'https://fastly.4sqi.net/img/general/', 'suffix': '/Xo5PAEK9J2eNbn7Lb8-l8F8W-T1bGbPHxairx1W4OH4.jpg', 'width': 540, 'height': 540, 'user': {'id': '21368', 'firstName': 'Witold', 'lastName': 'R', 'photo': {'prefix': 'https://fastly.4sqi.net/img/user/', 'suffix': '/21368-NQUOLLSHRU54GTJ0.jpg'}}, 'visibility': 'public'}}]}}, {'id': '5d5971650b8bda0006807730', 'name': 'Awesome Kensington Brooklyn Places', 'description': 'All the best spots to go when you’re in Kensington Brooklyn', 'type': 'others', 'user': {'id': '29733', 'firstName': 'Shawn', 'lastName': 'C', 'photo': {'prefix': 'https://fastly.4sqi.net/img/user/', 'suffix': '/4P5KU31XA43DFF4E.jpg'}}, 'editable': False, 'public': True, 'collaborative': False, 'url': '/shacheng/list/awesome-kensington-brooklyn-places', 'canonicalUrl': 'https://foursquare.com/shacheng/list/awesome-kensington-brooklyn-places', 'createdAt': 1566142821, 'updatedAt': 1595598305, 'photo': {'id': '55ee006f498ece4964b1d117', 'createdAt': 1441661039, 'prefix': 'https://fastly.4sqi.net/img/general/', 'suffix': '/47321_FFDQQ3xwX0xc3-cQ3o5v72rbLQVXZSVftd_hBF8sIlQ.jpg', 'width': 1440, 'height': 1920, 'user': {'id': '47321', 'firstName': 'Nate', 'lastName': 'F', 'photo': {'prefix': 'https://fastly.4sqi.net/img/user/', 'suffix': '/47321_7-SPk1Ml_yiKec52usgfszPx8O30OFhIe9epxw83ZYW8qbNkwYSlM0EHJnyMqZRWE1ejuhsXj'}}, 'visibility': 'public'}, 'followers': {'count': 0}, 'listItems': {'count': 26, 'items': [{'id': 'v4d5c12a01e43236a87eb1583', 'createdAt': 1566143030}]}}, {'id': '568db360498e82dce2a3cdf5', 'name': 'Kensington hot spots', 'description': '', 'type': 'others', 'user': {'id': '4641025', 'firstName': 'Bevin', 'lastName': 'S', 'photo': {'prefix': 'https://fastly.4sqi.net/img/user/', 'suffix': '/WEUBHNQQIXGFGIHI.jpg'}}, 'editable': False, 'public': True, 'collaborative': False, 'url': '/bevinstella/list/kensington-hot-spots', 'canonicalUrl': 'https://foursquare.com/bevinstella/list/kensington-hot-spots', 'createdAt': 1452127072, 'updatedAt': 1462069621, 'photo': {'id': '50f1c02ce4b067e9ed854fb5', 'createdAt': 1358020652, 'prefix': 'https://fastly.4sqi.net/img/general/', 'suffix': '/33595095_7BKZgPGXR50lMSfHvd8FwGWuROp4J5XzjQg5frpnqPE.jpg', 'width': 612, 'height': 612, 'user': {'id': '33595095', 'firstName': 'Vera', 'photo': {'prefix': 'https://fastly.4sqi.net/img/user/', 'suffix': '/WJHM0A3A3YYWHME1.jpg'}}, 'visibility': 'public'}, 'followers': {'count': 1}, 'listItems': {'count': 22, 'items': [{'id': 'v4d5c12a01e43236a87eb1583', 'createdAt': 1452130575}]}}]}]}, 'popular': {'status': 'Likely open', 'richStatus': {'entities': [], 'text': 'Likely open'}, 'isOpen': True, 'isLocalHoliday': False, 'timeframes': [{'days': 'Today', 'includesToday': True, 'open': [{'renderedTime': 'Noon–10:00 PM'}], 'segments': []}, {'days': 'Fri', 'open': [{'renderedTime': 'Noon–10:00 PM'}], 'segments': []}, {'days': 'Sat', 'open': [{'renderedTime': '11:00 AM–11:00 PM'}], 'segments': []}, {'days': 'Sun', 'open': [{'renderedTime': 'Noon–10:00 PM'}], 'segments': []}, {'days': 'Mon', 'open': [{'renderedTime': '6:00 AM–7:00 AM'}, {'renderedTime': 'Noon–10:00 PM'}], 'segments': []}, {'days': 'Tue', 'open': [{'renderedTime': 'Noon–5:00 PM'}, {'renderedTime': '7:00 PM–10:00 PM'}], 'segments': []}, {'days': 'Wed', 'open': [{'renderedTime': '11:00 AM–10:00 PM'}], 'segments': []}]}, 'seasonalHours': [], 'pageUpdates': {'count': 0, 'items': []}, 'inbox': {'count': 0, 'items': []}, 'attributes': {'groups': [{'type': 'price', 'name': 'Price', 'summary': '$$', 'count': 1, 'items': [{'displayName': 'Price', 'displayValue': '$$', 'priceTier': 2}]}, {'type': 'reservations', 'name': 'Reservations', 'count': 3, 'items': [{'displayName': 'Reservations', 'displayValue': 'No'}]}, {'type': 'payments', 'name': 'Credit Cards', 'summary': 'Credit Cards', 'count': 7, 'items': [{'displayName': 'Credit Cards', 'displayValue': 'Yes'}]}, {'type': 'outdoorSeating', 'name': 'Outdoor Seating', 'count': 1, 'items': [{'displayName': 'Outdoor Seating', 'displayValue': 'No'}]}]}, 'bestPhoto': {'id': '4f6d0988e4b0a4e20f3f77b8', 'createdAt': 1332545928, 'source': {'name': 'Foursquare for iOS', 'url': 'https://foursquare.com/download/#/iphone'}, 'prefix': 'https://fastly.4sqi.net/img/general/', 'suffix': '/Xo5PAEK9J2eNbn7Lb8-l8F8W-T1bGbPHxairx1W4OH4.jpg', 'width': 540, 'height': 540, 'visibility': 'public'}, 'colors': {'highlightColor': {'photoId': '4f6d0988e4b0a4e20f3f77b8', 'value': -14153728}, 'highlightTextColor': {'photoId': '4f6d0988e4b0a4e20f3f77b8', 'value': -1}, 'algoVersion': 3}}}}\n",
      "                         ID        Name  Likes  Rating  Tips\n",
      "0  4d5c12a01e43236a87eb1583  Sake Sushi     31     7.5    49\n",
      "( 1 / 8 ) processed\n",
      "{'meta': {'code': 200, 'requestId': '5f3588621aa323527d0363c1'}, 'response': {'venue': {'id': '5cb5e5f9a35f4600255406c6', 'name': 'Maison Yaki', 'contact': {'phone': '7185522609', 'formattedPhone': '(718) 552-2609', 'twitter': 'maisonyaki', 'instagram': 'maisonyaki', 'facebook': '272996516936741', 'facebookUsername': 'maisonyaki', 'facebookName': 'Maison Yaki'}, 'location': {'address': '626 Vanderbilt Ave', 'crossStreet': 'Prospect Place', 'lat': 40.67747521328162, 'lng': -73.96908078141962, 'labeledLatLngs': [{'label': 'display', 'lat': 40.67747521328162, 'lng': -73.96908078141962}], 'postalCode': '11238', 'cc': 'US', 'neighborhood': 'Prospect Heights', 'city': 'Brooklyn', 'state': 'NY', 'country': 'United States', 'formattedAddress': ['626 Vanderbilt Ave (Prospect Place)', 'Brooklyn, NY 11238', 'United States']}, 'canonicalUrl': 'https://foursquare.com/v/maison-yaki/5cb5e5f9a35f4600255406c6', 'categories': [{'id': '4bf58dd8d48988d111941735', 'name': 'Japanese Restaurant', 'pluralName': 'Japanese Restaurants', 'shortName': 'Japanese', 'icon': {'prefix': 'https://ss3.4sqi.net/img/categories_v2/food/japanese_', 'suffix': '.png'}, 'primary': True}, {'id': '4bf58dd8d48988d10c941735', 'name': 'French Restaurant', 'pluralName': 'French Restaurants', 'shortName': 'French', 'icon': {'prefix': 'https://ss3.4sqi.net/img/categories_v2/food/french_', 'suffix': '.png'}}], 'verified': False, 'stats': {'tipCount': 23}, 'url': 'http://www.maisonyaki.com', 'price': {'tier': 2, 'message': 'Moderate', 'currency': '$'}, 'likes': {'count': 80, 'groups': [{'type': 'others', 'count': 80, 'items': []}], 'summary': '80 Likes'}, 'dislike': False, 'ok': False, 'rating': 8.4, 'ratingColor': '73CF42', 'ratingSignals': 115, 'allowMenuUrlEdit': True, 'beenHere': {'count': 0, 'unconfirmedCount': 0, 'marked': False, 'lastCheckinExpiredAt': 0}, 'specials': {'count': 0, 'items': []}, 'photos': {'count': 97, 'groups': [{'type': 'venue', 'name': 'Venue photos', 'count': 97, 'items': [{'id': '5f25e847c63ccc55fc523c30', 'createdAt': 1596319815, 'source': {'name': 'Swarm for iOS', 'url': 'https://www.swarmapp.com'}, 'prefix': 'https://fastly.4sqi.net/img/general/', 'suffix': '/68571_VaR-WwZhqDNf0AD3-6ys6vzG2CvzULINKK3aCkT2jAs.jpg', 'width': 1920, 'height': 1440, 'user': {'id': '68571', 'firstName': 'Sage', 'photo': {'prefix': 'https://fastly.4sqi.net/img/user/', 'suffix': '/68571-BPZ2ZELEACT4GQN5.jpg'}}, 'visibility': 'public'}]}]}, 'reasons': {'count': 1, 'items': [{'summary': 'Lots of people like this place', 'type': 'general', 'reasonName': 'rawLikesReason'}]}, 'hereNow': {'count': 0, 'summary': 'Nobody here', 'groups': []}, 'createdAt': 1555424761, 'tips': {'count': 23, 'groups': [{'type': 'others', 'name': 'All tips', 'count': 23, 'items': [{'id': '5d8d7f10f6e11100076fe3b8', 'createdAt': 1569554192, 'text': 'The crispy potatoes and cauliflower cake were my favorite. Good cocktails too and great service. The skewers were fine but a bit overpriced.', 'type': 'user', 'canonicalUrl': 'https://foursquare.com/item/5d8d7f10f6e11100076fe3b8', 'lang': 'en', 'likes': {'count': 0, 'groups': []}, 'logView': True, 'agreeCount': 0, 'disagreeCount': 0, 'todo': {'count': 0}, 'user': {'id': '145611750', 'firstName': 'Milagros', 'lastName': 'R', 'photo': {'prefix': 'https://fastly.4sqi.net/img/user/', 'suffix': '/145611750-CELSV04RBQ5SVU0F.jpg'}}, 'authorInteractionType': 'liked'}]}]}, 'shortUrl': 'https://4sq.com/2DgX3FQ', 'timeZone': 'America/New_York', 'listed': {'count': 248, 'groups': [{'type': 'others', 'name': 'Lists from other people', 'count': 248, 'items': [{'id': '51d1aca6498e703ff46f55d4', 'name': 'Dinnertime seduction in NYC', 'description': 'You like to eat, I like to eat. Lets date.', 'type': 'others', 'user': {'id': '58749', 'firstName': 'Kim', 'lastName': 'P', 'photo': {'prefix': 'https://fastly.4sqi.net/img/user/', 'suffix': '/58749-0OKRZUTUUS5EM4N0.jpg'}}, 'editable': False, 'public': True, 'collaborative': False, 'url': '/kim617/list/dinnertime-seduction-in-nyc', 'canonicalUrl': 'https://foursquare.com/kim617/list/dinnertime-seduction-in-nyc', 'createdAt': 1372695718, 'updatedAt': 1578935474, 'photo': {'id': '55177215498e2fb93b53a9ef', 'createdAt': 1427599893, 'prefix': 'https://fastly.4sqi.net/img/general/', 'suffix': '/58749_6JAkS63TveWm3OtEa79TYi4vCE70YLmEeaB7RTougrE.jpg', 'width': 1920, 'height': 1440, 'user': {'id': '58749', 'firstName': 'Kim', 'lastName': 'P', 'photo': {'prefix': 'https://fastly.4sqi.net/img/user/', 'suffix': '/58749-0OKRZUTUUS5EM4N0.jpg'}}, 'visibility': 'public'}, 'followers': {'count': 23}, 'listItems': {'count': 38, 'items': [{'id': 'v5cb5e5f9a35f4600255406c6', 'createdAt': 1576164901}]}}, {'id': '4f06192a0e0199f87c8392e4', 'name': 'Quick, I need a date spot.', 'description': 'My favorite date spots in various neighborhoods at various price points. Some trendy, some hidden, all relatively calm and civilized.', 'type': 'others', 'user': {'id': '23355', 'firstName': 'Dan', 'lastName': 'K', 'photo': {'prefix': 'https://fastly.4sqi.net/img/user/', 'suffix': '/23355-ULKIVMCI21C0M32V.jpg'}}, 'editable': False, 'public': True, 'collaborative': False, 'url': '/user/23355/list/quick-i-need-a-date-spot', 'canonicalUrl': 'https://foursquare.com/user/23355/list/quick-i-need-a-date-spot', 'createdAt': 1325799722, 'updatedAt': 1583879230, 'photo': {'id': '4eadcfc9490170218c74db8a', 'createdAt': 1320013769, 'prefix': 'https://fastly.4sqi.net/img/general/', 'suffix': '/Y1KLPFVKNEKQLS5GW4MW42JKAG3DZY32HXKPVAJKDH2ED4AM.jpg', 'width': 612, 'height': 612, 'user': {'id': '799572', 'firstName': 'Ben', 'photo': {'prefix': 'https://fastly.4sqi.net/img/user/', 'suffix': '/MQIUT4UIXC1LXX0M.jpg'}}, 'visibility': 'public'}, 'followers': {'count': 842}, 'listItems': {'count': 204, 'items': [{'id': 'v5cb5e5f9a35f4600255406c6', 'createdAt': 1559748236}]}}, {'id': '4f066f8ee5fa76365a2b7e45', 'name': 'Favorite NYC restaurants', 'description': 'My favorites range from formal French service to rogue smokers in the dining room under buzzing florescent lights. It all boils down to the food.', 'type': 'others', 'user': {'id': '23355', 'firstName': 'Dan', 'lastName': 'K', 'photo': {'prefix': 'https://fastly.4sqi.net/img/user/', 'suffix': '/23355-ULKIVMCI21C0M32V.jpg'}}, 'editable': False, 'public': True, 'collaborative': False, 'url': '/user/23355/list/favorite-nyc-restaurants', 'canonicalUrl': 'https://foursquare.com/user/23355/list/favorite-nyc-restaurants', 'createdAt': 1325821838, 'updatedAt': 1583544816, 'photo': {'id': '4dff811aa12d231074fa4ef3', 'createdAt': 1308590362, 'prefix': 'https://fastly.4sqi.net/img/general/', 'suffix': '/VQILTMF2AJDZISBGICA4W3RAZSPQGFOAGTK2MEUMAVTDLOQL.jpg', 'width': 537, 'height': 720, 'user': {'id': '79616', 'firstName': 'Anna', 'lastName': 'G', 'photo': {'prefix': 'https://fastly.4sqi.net/img/user/', 'suffix': '/79616-FUW2PDCIHF1ZZFHF.jpg'}}, 'visibility': 'public'}, 'followers': {'count': 65}, 'listItems': {'count': 180, 'items': [{'id': 'v5cb5e5f9a35f4600255406c6', 'createdAt': 1559748241}]}}, {'id': '573fcba6498e983af73d386b', 'name': 'Recent Standouts in NYC', 'description': '', 'type': 'others', 'user': {'id': '697943', 'firstName': 'Noah', 'lastName': 'W', 'photo': {'prefix': 'https://fastly.4sqi.net/img/user/', 'suffix': '/697943_jQx3rpaR_DmCtX0lbxNf3D3idRsUdoFl_feXc4MkLlYeHO5BkTZg0NY0SXHF9tYgq50UFxsnx.jpg'}}, 'editable': False, 'public': True, 'collaborative': False, 'url': '/noah_weiss/list/recent-standouts-in-nyc', 'canonicalUrl': 'https://foursquare.com/noah_weiss/list/recent-standouts-in-nyc', 'createdAt': 1463798694, 'updatedAt': 1566778897, 'photo': {'id': '573fcb59498ea2ba237e1786', 'createdAt': 1463798617, 'prefix': 'https://fastly.4sqi.net/img/general/', 'suffix': '/697943_o1ln5NLxp9juttuw4MdF4REc65JAreVactGzD3BDTXE.jpg', 'width': 1440, 'height': 1440, 'user': {'id': '697943', 'firstName': 'Noah', 'lastName': 'W', 'photo': {'prefix': 'https://fastly.4sqi.net/img/user/', 'suffix': '/697943_jQx3rpaR_DmCtX0lbxNf3D3idRsUdoFl_feXc4MkLlYeHO5BkTZg0NY0SXHF9tYgq50UFxsnx.jpg'}}, 'visibility': 'public'}, 'followers': {'count': 12}, 'listItems': {'count': 75, 'items': [{'id': 't5d3c9442d97afa0008d962f5', 'createdAt': 1564251219, 'photo': {'id': '5d3c94447c1d1a0008900ace', 'createdAt': 1564251204, 'prefix': 'https://fastly.4sqi.net/img/general/', 'suffix': '/697943_yj2r8GR6KY9H7q1jk0nwIaUA7Ucia-QAzTq1aoRBrt4.jpg', 'width': 1438, 'height': 1920, 'user': {'id': '697943', 'firstName': 'Noah', 'lastName': 'W', 'photo': {'prefix': 'https://fastly.4sqi.net/img/user/', 'suffix': '/697943_jQx3rpaR_DmCtX0lbxNf3D3idRsUdoFl_feXc4MkLlYeHO5BkTZg0NY0SXHF9tYgq50UFxsnx.jpg'}}, 'visibility': 'public'}}]}}]}]}, 'hours': {'status': 'Closed until 5:00 PM', 'richStatus': {'entities': [], 'text': 'Closed until 5:00 PM'}, 'isOpen': False, 'isLocalHoliday': False, 'dayData': [], 'timeframes': [{'days': 'Wed–Sun', 'includesToday': True, 'open': [{'renderedTime': '5:00 PM–10:00 PM'}], 'segments': []}]}, 'popular': {'isOpen': False, 'isLocalHoliday': False, 'timeframes': [{'days': 'Today', 'includesToday': True, 'open': [{'renderedTime': '5:00 PM–Midnight'}], 'segments': []}, {'days': 'Fri', 'open': [{'renderedTime': '5:00 PM–Midnight'}], 'segments': []}, {'days': 'Sat', 'open': [{'renderedTime': '5:00 PM–10:00 PM'}], 'segments': []}, {'days': 'Sun', 'open': [{'renderedTime': '1:00 PM–10:00 PM'}], 'segments': []}, {'days': 'Mon–Tue', 'open': [{'renderedTime': 'None'}], 'segments': []}, {'days': 'Wed', 'open': [{'renderedTime': '5:00 PM–11:00 PM'}], 'segments': []}]}, 'seasonalHours': [], 'defaultHours': {'status': 'Closed until 5:00 PM', 'richStatus': {'entities': [], 'text': 'Closed until 5:00 PM'}, 'isOpen': False, 'isLocalHoliday': False, 'dayData': [], 'timeframes': [{'days': 'Wed–Sun', 'includesToday': True, 'open': [{'renderedTime': '5:00 PM–10:00 PM'}], 'segments': []}]}, 'pageUpdates': {'count': 0, 'items': []}, 'inbox': {'count': 0, 'items': []}, 'attributes': {'groups': [{'type': 'price', 'name': 'Price', 'summary': '$$', 'count': 1, 'items': [{'displayName': 'Price', 'displayValue': '$$', 'priceTier': 2}]}, {'type': 'reservations', 'name': 'Reservations', 'summary': 'Reservations', 'count': 3, 'items': [{'displayName': 'Reservations', 'displayValue': 'Yes'}]}, {'type': 'payments', 'name': 'Credit Cards', 'summary': 'Credit Cards', 'count': 7, 'items': [{'displayName': 'Credit Cards', 'displayValue': 'Yes'}]}, {'type': 'outdoorSeating', 'name': 'Outdoor Seating', 'summary': 'Outdoor Seating', 'count': 1, 'items': [{'displayName': 'Outdoor Seating', 'displayValue': 'Yes'}]}, {'type': 'serves', 'name': 'Menus', 'summary': 'Dinner', 'count': 8, 'items': [{'displayName': 'Dinner', 'displayValue': 'Dinner'}]}]}, 'bestPhoto': {'id': '5f25e847c63ccc55fc523c30', 'createdAt': 1596319815, 'source': {'name': 'Swarm for iOS', 'url': 'https://www.swarmapp.com'}, 'prefix': 'https://fastly.4sqi.net/img/general/', 'suffix': '/68571_VaR-WwZhqDNf0AD3-6ys6vzG2CvzULINKK3aCkT2jAs.jpg', 'width': 1920, 'height': 1440, 'visibility': 'public'}, 'colors': {'highlightColor': {'photoId': '5f25e847c63ccc55fc523c30', 'value': -15196128}, 'highlightTextColor': {'photoId': '5f25e847c63ccc55fc523c30', 'value': -1}, 'algoVersion': 3}}}}\n",
      "                         ID         Name  Likes  Rating  Tips\n",
      "0  5cb5e5f9a35f4600255406c6  Maison Yaki     80     8.4    23\n",
      "( 2 / 8 ) processed\n",
      "{'meta': {'code': 500, 'errorType': 'server_error', 'errorDetail': 'Foursquare servers are experiencing problems. Please retry and check status.foursquare.com for updates.'}, 'response': {}}\n"
     ]
    },
    {
     "ename": "KeyError",
     "evalue": "'venue'",
     "output_type": "error",
     "traceback": [
      "\u001b[1;31m---------------------------------------------------------------------------\u001b[0m",
      "\u001b[1;31mKeyError\u001b[0m                                  Traceback (most recent call last)",
      "\u001b[1;32m<ipython-input-14-6ed04af23668>\u001b[0m in \u001b[0;36m<module>\u001b[1;34m\u001b[0m\n\u001b[0;32m      5\u001b[0m     \u001b[0mBorough\u001b[0m\u001b[1;33m,\u001b[0m\u001b[0mNeighborhood\u001b[0m\u001b[1;33m,\u001b[0m\u001b[0mID\u001b[0m\u001b[1;33m,\u001b[0m\u001b[0mName\u001b[0m\u001b[1;33m=\u001b[0m\u001b[0mrow\u001b[0m\u001b[1;33m\u001b[0m\u001b[1;33m\u001b[0m\u001b[0m\n\u001b[0;32m      6\u001b[0m     \u001b[1;32mtry\u001b[0m\u001b[1;33m:\u001b[0m\u001b[1;33m\u001b[0m\u001b[1;33m\u001b[0m\u001b[0m\n\u001b[1;32m----> 7\u001b[1;33m         \u001b[0mvenue_details\u001b[0m\u001b[1;33m=\u001b[0m\u001b[0mget_venue_details\u001b[0m\u001b[1;33m(\u001b[0m\u001b[0mID\u001b[0m\u001b[1;33m)\u001b[0m\u001b[1;33m\u001b[0m\u001b[1;33m\u001b[0m\u001b[0m\n\u001b[0m\u001b[0;32m      8\u001b[0m         \u001b[0mprint\u001b[0m\u001b[1;33m(\u001b[0m\u001b[0mvenue_details\u001b[0m\u001b[1;33m)\u001b[0m\u001b[1;33m\u001b[0m\u001b[1;33m\u001b[0m\u001b[0m\n\u001b[0;32m      9\u001b[0m         \u001b[0mid\u001b[0m\u001b[1;33m,\u001b[0m\u001b[0mname\u001b[0m\u001b[1;33m,\u001b[0m\u001b[0mlikes\u001b[0m\u001b[1;33m,\u001b[0m\u001b[0mrating\u001b[0m\u001b[1;33m,\u001b[0m\u001b[0mtips\u001b[0m\u001b[1;33m=\u001b[0m\u001b[0mvenue_details\u001b[0m\u001b[1;33m.\u001b[0m\u001b[0mvalues\u001b[0m\u001b[1;33m.\u001b[0m\u001b[0mtolist\u001b[0m\u001b[1;33m(\u001b[0m\u001b[1;33m)\u001b[0m\u001b[1;33m[\u001b[0m\u001b[1;36m0\u001b[0m\u001b[1;33m]\u001b[0m\u001b[1;33m\u001b[0m\u001b[1;33m\u001b[0m\u001b[0m\n",
      "\u001b[1;32m<ipython-input-3-ead3146b11c0>\u001b[0m in \u001b[0;36mget_venue_details\u001b[1;34m(venue_id)\u001b[0m\n\u001b[0;32m     44\u001b[0m     \u001b[0mresults\u001b[0m \u001b[1;33m=\u001b[0m \u001b[0mrequests\u001b[0m\u001b[1;33m.\u001b[0m\u001b[0mget\u001b[0m\u001b[1;33m(\u001b[0m\u001b[0murl\u001b[0m\u001b[1;33m)\u001b[0m\u001b[1;33m.\u001b[0m\u001b[0mjson\u001b[0m\u001b[1;33m(\u001b[0m\u001b[1;33m)\u001b[0m\u001b[1;33m\u001b[0m\u001b[1;33m\u001b[0m\u001b[0m\n\u001b[0;32m     45\u001b[0m     \u001b[0mprint\u001b[0m\u001b[1;33m(\u001b[0m\u001b[0mresults\u001b[0m\u001b[1;33m)\u001b[0m\u001b[1;33m\u001b[0m\u001b[1;33m\u001b[0m\u001b[0m\n\u001b[1;32m---> 46\u001b[1;33m     \u001b[0mvenue_data\u001b[0m\u001b[1;33m=\u001b[0m\u001b[0mresults\u001b[0m\u001b[1;33m[\u001b[0m\u001b[1;34m'response'\u001b[0m\u001b[1;33m]\u001b[0m\u001b[1;33m[\u001b[0m\u001b[1;34m'venue'\u001b[0m\u001b[1;33m]\u001b[0m\u001b[1;33m\u001b[0m\u001b[1;33m\u001b[0m\u001b[0m\n\u001b[0m\u001b[0;32m     47\u001b[0m     \u001b[0mvenue_details\u001b[0m\u001b[1;33m=\u001b[0m\u001b[1;33m[\u001b[0m\u001b[1;33m]\u001b[0m\u001b[1;33m\u001b[0m\u001b[1;33m\u001b[0m\u001b[0m\n\u001b[0;32m     48\u001b[0m     \u001b[1;32mtry\u001b[0m\u001b[1;33m:\u001b[0m\u001b[1;33m\u001b[0m\u001b[1;33m\u001b[0m\u001b[0m\n",
      "\u001b[1;31mKeyError\u001b[0m: 'venue'"
     ]
    }
   ],
   "source": [
    "column_names=['Borough', 'Neighborhood', 'ID','Name','Likes','Rating','Tips']\n",
    "japanese_rest_stats_ny=pd.DataFrame(columns=column_names)\n",
    "count=1\n",
    "for row in japanese_rest_ny.values.tolist():\n",
    "    Borough,Neighborhood,ID,Name=row\n",
    "    try:\n",
    "        venue_details=get_venue_details(ID)\n",
    "        print(venue_details)\n",
    "        id,name,likes,rating,tips=venue_details.values.tolist()[0]\n",
    "    except IndexError:\n",
    "        print('No data available for id=',ID)\n",
    "        # we will assign 0 value for these resturants as they may have been \n",
    "        #recently opened or details does not exist in FourSquare Database\n",
    "        id,name,likes,rating,tips=[0]*5\n",
    "    print('(',count,'/',len(japanese_rest_ny),')','processed')\n",
    "    japanese_rest_stats_ny = japanese_rest_stats_ny.append({'Borough': Borough,\n",
    "                                                'Neighborhood': Neighborhood, \n",
    "                                                'ID': id,\n",
    "                                                'Name' : name,\n",
    "                                                'Likes' : likes,\n",
    "                                                'Rating' : rating,\n",
    "                                                'Tips' : tips\n",
    "                                               }, ignore_index=True)\n",
    "    count+=1\n",
    "japanese_rest_stats_ny.tail()"
   ]
  },
  {
   "cell_type": "code",
   "execution_count": 15,
   "metadata": {},
   "outputs": [],
   "source": [
    "japanese_rest_stats_ny.to_csv('japanese_rest_stats_ny_csv.csv') # As I move through this project I continue to save data to a .csv file"
   ]
  },
  {
   "cell_type": "code",
   "execution_count": 16,
   "metadata": {},
   "outputs": [
    {
     "data": {
      "text/plain": [
       "(2, 7)"
      ]
     },
     "execution_count": 16,
     "metadata": {},
     "output_type": "execute_result"
    }
   ],
   "source": [
    "japanese_rest_stats_ny.shape"
   ]
  },
  {
   "cell_type": "code",
   "execution_count": 17,
   "metadata": {},
   "outputs": [
    {
     "name": "stdout",
     "output_type": "stream",
     "text": [
      "<class 'pandas.core.frame.DataFrame'>\n",
      "RangeIndex: 2 entries, 0 to 1\n",
      "Data columns (total 7 columns):\n",
      " #   Column        Non-Null Count  Dtype  \n",
      "---  ------        --------------  -----  \n",
      " 0   Borough       2 non-null      object \n",
      " 1   Neighborhood  2 non-null      object \n",
      " 2   ID            2 non-null      object \n",
      " 3   Name          2 non-null      object \n",
      " 4   Likes         2 non-null      object \n",
      " 5   Rating        2 non-null      float64\n",
      " 6   Tips          2 non-null      object \n",
      "dtypes: float64(1), object(6)\n",
      "memory usage: 240.0+ bytes\n"
     ]
    }
   ],
   "source": [
    "japanese_rest_stats_ny.info()"
   ]
  },
  {
   "cell_type": "code",
   "execution_count": 18,
   "metadata": {},
   "outputs": [
    {
     "name": "stdout",
     "output_type": "stream",
     "text": [
      "<class 'pandas.core.frame.DataFrame'>\n",
      "RangeIndex: 2 entries, 0 to 1\n",
      "Data columns (total 7 columns):\n",
      " #   Column        Non-Null Count  Dtype  \n",
      "---  ------        --------------  -----  \n",
      " 0   Borough       2 non-null      object \n",
      " 1   Neighborhood  2 non-null      object \n",
      " 2   ID            2 non-null      object \n",
      " 3   Name          2 non-null      object \n",
      " 4   Likes         2 non-null      float64\n",
      " 5   Rating        2 non-null      float64\n",
      " 6   Tips          2 non-null      float64\n",
      "dtypes: float64(3), object(4)\n",
      "memory usage: 240.0+ bytes\n"
     ]
    }
   ],
   "source": [
    "japanese_rest_stats_ny['Likes'] = japanese_rest_stats_ny['Likes'].astype('float64')\n",
    "japanese_rest_stats_ny['Tips'] = japanese_rest_stats_ny['Tips'].astype('float64')\n",
    "japanese_rest_stats_ny.info()"
   ]
  },
  {
   "cell_type": "code",
   "execution_count": 19,
   "metadata": {},
   "outputs": [
    {
     "data": {
      "text/html": [
       "<div>\n",
       "<style scoped>\n",
       "    .dataframe tbody tr th:only-of-type {\n",
       "        vertical-align: middle;\n",
       "    }\n",
       "\n",
       "    .dataframe tbody tr th {\n",
       "        vertical-align: top;\n",
       "    }\n",
       "\n",
       "    .dataframe thead th {\n",
       "        text-align: right;\n",
       "    }\n",
       "</style>\n",
       "<table border=\"1\" class=\"dataframe\">\n",
       "  <thead>\n",
       "    <tr style=\"text-align: right;\">\n",
       "      <th></th>\n",
       "      <th>Likes</th>\n",
       "      <th>Rating</th>\n",
       "      <th>Tips</th>\n",
       "    </tr>\n",
       "  </thead>\n",
       "  <tbody>\n",
       "    <tr>\n",
       "      <th>count</th>\n",
       "      <td>2.000000</td>\n",
       "      <td>2.000000</td>\n",
       "      <td>2.000000</td>\n",
       "    </tr>\n",
       "    <tr>\n",
       "      <th>mean</th>\n",
       "      <td>55.500000</td>\n",
       "      <td>7.950000</td>\n",
       "      <td>36.000000</td>\n",
       "    </tr>\n",
       "    <tr>\n",
       "      <th>std</th>\n",
       "      <td>34.648232</td>\n",
       "      <td>0.636396</td>\n",
       "      <td>18.384776</td>\n",
       "    </tr>\n",
       "    <tr>\n",
       "      <th>min</th>\n",
       "      <td>31.000000</td>\n",
       "      <td>7.500000</td>\n",
       "      <td>23.000000</td>\n",
       "    </tr>\n",
       "    <tr>\n",
       "      <th>25%</th>\n",
       "      <td>43.250000</td>\n",
       "      <td>7.725000</td>\n",
       "      <td>29.500000</td>\n",
       "    </tr>\n",
       "    <tr>\n",
       "      <th>50%</th>\n",
       "      <td>55.500000</td>\n",
       "      <td>7.950000</td>\n",
       "      <td>36.000000</td>\n",
       "    </tr>\n",
       "    <tr>\n",
       "      <th>75%</th>\n",
       "      <td>67.750000</td>\n",
       "      <td>8.175000</td>\n",
       "      <td>42.500000</td>\n",
       "    </tr>\n",
       "    <tr>\n",
       "      <th>max</th>\n",
       "      <td>80.000000</td>\n",
       "      <td>8.400000</td>\n",
       "      <td>49.000000</td>\n",
       "    </tr>\n",
       "  </tbody>\n",
       "</table>\n",
       "</div>"
      ],
      "text/plain": [
       "           Likes    Rating       Tips\n",
       "count   2.000000  2.000000   2.000000\n",
       "mean   55.500000  7.950000  36.000000\n",
       "std    34.648232  0.636396  18.384776\n",
       "min    31.000000  7.500000  23.000000\n",
       "25%    43.250000  7.725000  29.500000\n",
       "50%    55.500000  7.950000  36.000000\n",
       "75%    67.750000  8.175000  42.500000\n",
       "max    80.000000  8.400000  49.000000"
      ]
     },
     "execution_count": 19,
     "metadata": {},
     "output_type": "execute_result"
    }
   ],
   "source": [
    "japanese_rest_stats_ny.describe()"
   ]
  },
  {
   "cell_type": "code",
   "execution_count": 20,
   "metadata": {},
   "outputs": [
    {
     "data": {
      "text/plain": [
       "Borough                         Brooklyn\n",
       "Neighborhood            Prospect Heights\n",
       "ID              5cb5e5f9a35f4600255406c6\n",
       "Name                         Maison Yaki\n",
       "Likes                                 80\n",
       "Rating                               8.4\n",
       "Tips                                  23\n",
       "Name: 1, dtype: object"
      ]
     },
     "execution_count": 20,
     "metadata": {},
     "output_type": "execute_result"
    }
   ],
   "source": [
    "# Resturant with maximum Likes\n",
    "japanese_rest_stats_ny.iloc[japanese_rest_stats_ny['Likes'].idxmax()]"
   ]
  },
  {
   "cell_type": "code",
   "execution_count": 21,
   "metadata": {},
   "outputs": [
    {
     "data": {
      "text/plain": [
       "Borough                         Brooklyn\n",
       "Neighborhood            Prospect Heights\n",
       "ID              5cb5e5f9a35f4600255406c6\n",
       "Name                         Maison Yaki\n",
       "Likes                                 80\n",
       "Rating                               8.4\n",
       "Tips                                  23\n",
       "Name: 1, dtype: object"
      ]
     },
     "execution_count": 21,
     "metadata": {},
     "output_type": "execute_result"
    }
   ],
   "source": [
    "# Resturant with maximum Ratings\n",
    "japanese_rest_stats_ny.iloc[japanese_rest_stats_ny['Rating'].idxmax()]"
   ]
  },
  {
   "cell_type": "code",
   "execution_count": 22,
   "metadata": {},
   "outputs": [
    {
     "data": {
      "text/plain": [
       "Borough                         Brooklyn\n",
       "Neighborhood                  Kensington\n",
       "ID              4d5c12a01e43236a87eb1583\n",
       "Name                          Sake Sushi\n",
       "Likes                                 31\n",
       "Rating                               7.5\n",
       "Tips                                  49\n",
       "Name: 0, dtype: object"
      ]
     },
     "execution_count": 22,
     "metadata": {},
     "output_type": "execute_result"
    }
   ],
   "source": [
    "# Resturant with maximum Tips\n",
    "japanese_rest_stats_ny.iloc[japanese_rest_stats_ny['Tips'].idxmax()]"
   ]
  },
  {
   "cell_type": "code",
   "execution_count": 23,
   "metadata": {},
   "outputs": [
    {
     "data": {
      "text/html": [
       "<div>\n",
       "<style scoped>\n",
       "    .dataframe tbody tr th:only-of-type {\n",
       "        vertical-align: middle;\n",
       "    }\n",
       "\n",
       "    .dataframe tbody tr th {\n",
       "        vertical-align: top;\n",
       "    }\n",
       "\n",
       "    .dataframe thead th {\n",
       "        text-align: right;\n",
       "    }\n",
       "</style>\n",
       "<table border=\"1\" class=\"dataframe\">\n",
       "  <thead>\n",
       "    <tr style=\"text-align: right;\">\n",
       "      <th></th>\n",
       "      <th>Neighborhood</th>\n",
       "      <th>Average Rating</th>\n",
       "    </tr>\n",
       "  </thead>\n",
       "  <tbody>\n",
       "    <tr>\n",
       "      <th>1</th>\n",
       "      <td>Prospect Heights</td>\n",
       "      <td>8.4</td>\n",
       "    </tr>\n",
       "    <tr>\n",
       "      <th>0</th>\n",
       "      <td>Kensington</td>\n",
       "      <td>7.5</td>\n",
       "    </tr>\n",
       "  </tbody>\n",
       "</table>\n",
       "</div>"
      ],
      "text/plain": [
       "       Neighborhood  Average Rating\n",
       "1  Prospect Heights             8.4\n",
       "0        Kensington             7.5"
      ]
     },
     "execution_count": 23,
     "metadata": {},
     "output_type": "execute_result"
    }
   ],
   "source": [
    "ny_neighborhood_stats=japanese_rest_stats_ny.groupby('Neighborhood',as_index=False).mean()[['Neighborhood','Rating']]\n",
    "ny_neighborhood_stats.columns=['Neighborhood','Average Rating']\n",
    "ny_neighborhood_stats.sort_values(['Average Rating'],ascending=False).head(10)"
   ]
  },
  {
   "cell_type": "code",
   "execution_count": 24,
   "metadata": {},
   "outputs": [
    {
     "data": {
      "text/html": [
       "<div>\n",
       "<style scoped>\n",
       "    .dataframe tbody tr th:only-of-type {\n",
       "        vertical-align: middle;\n",
       "    }\n",
       "\n",
       "    .dataframe tbody tr th {\n",
       "        vertical-align: top;\n",
       "    }\n",
       "\n",
       "    .dataframe thead th {\n",
       "        text-align: right;\n",
       "    }\n",
       "</style>\n",
       "<table border=\"1\" class=\"dataframe\">\n",
       "  <thead>\n",
       "    <tr style=\"text-align: right;\">\n",
       "      <th></th>\n",
       "      <th>Borough</th>\n",
       "      <th>Average Rating</th>\n",
       "    </tr>\n",
       "  </thead>\n",
       "  <tbody>\n",
       "    <tr>\n",
       "      <th>0</th>\n",
       "      <td>Brooklyn</td>\n",
       "      <td>7.95</td>\n",
       "    </tr>\n",
       "  </tbody>\n",
       "</table>\n",
       "</div>"
      ],
      "text/plain": [
       "    Borough  Average Rating\n",
       "0  Brooklyn            7.95"
      ]
     },
     "execution_count": 24,
     "metadata": {},
     "output_type": "execute_result"
    }
   ],
   "source": [
    "\n",
    "ny_borough_stats=japanese_rest_stats_ny.groupby('Borough',as_index=False).mean()[['Borough','Rating']]\n",
    "ny_borough_stats.columns=['Borough','Average Rating']\n",
    "ny_borough_stats.sort_values(['Average Rating'],ascending=False).head()"
   ]
  },
  {
   "cell_type": "code",
   "execution_count": 25,
   "metadata": {},
   "outputs": [
    {
     "ename": "NameError",
     "evalue": "name 'plt' is not defined",
     "output_type": "error",
     "traceback": [
      "\u001b[1;31m---------------------------------------------------------------------------\u001b[0m",
      "\u001b[1;31mNameError\u001b[0m                                 Traceback (most recent call last)",
      "\u001b[1;32m<ipython-input-25-e2f715a98d94>\u001b[0m in \u001b[0;36m<module>\u001b[1;34m\u001b[0m\n\u001b[1;32m----> 1\u001b[1;33m \u001b[0mplt\u001b[0m\u001b[1;33m.\u001b[0m\u001b[0mfigure\u001b[0m\u001b[1;33m(\u001b[0m\u001b[0mfigsize\u001b[0m\u001b[1;33m=\u001b[0m\u001b[1;33m(\u001b[0m\u001b[1;36m9\u001b[0m\u001b[1;33m,\u001b[0m\u001b[1;36m5\u001b[0m\u001b[1;33m)\u001b[0m\u001b[1;33m,\u001b[0m \u001b[0mdpi\u001b[0m \u001b[1;33m=\u001b[0m \u001b[1;36m100\u001b[0m\u001b[1;33m)\u001b[0m\u001b[1;33m\u001b[0m\u001b[1;33m\u001b[0m\u001b[0m\n\u001b[0m\u001b[0;32m      2\u001b[0m \u001b[0mplt\u001b[0m\u001b[1;33m.\u001b[0m\u001b[0mtitle\u001b[0m\u001b[1;33m(\u001b[0m\u001b[1;34m'Average rating of Japanese Restaurants for each Borough'\u001b[0m\u001b[1;33m)\u001b[0m\u001b[1;33m\u001b[0m\u001b[1;33m\u001b[0m\u001b[0m\n\u001b[0;32m      3\u001b[0m \u001b[0mplt\u001b[0m\u001b[1;33m.\u001b[0m\u001b[0mxlabel\u001b[0m\u001b[1;33m(\u001b[0m\u001b[1;34m'Borough'\u001b[0m\u001b[1;33m,\u001b[0m \u001b[0mfontsize\u001b[0m \u001b[1;33m=\u001b[0m \u001b[1;36m15\u001b[0m\u001b[1;33m)\u001b[0m\u001b[1;33m\u001b[0m\u001b[1;33m\u001b[0m\u001b[0m\n\u001b[0;32m      4\u001b[0m \u001b[0mplt\u001b[0m\u001b[1;33m.\u001b[0m\u001b[0mylabel\u001b[0m\u001b[1;33m(\u001b[0m\u001b[1;34m'Average Rating'\u001b[0m\u001b[1;33m,\u001b[0m \u001b[0mfontsize\u001b[0m\u001b[1;33m=\u001b[0m\u001b[1;36m15\u001b[0m\u001b[1;33m)\u001b[0m\u001b[1;33m\u001b[0m\u001b[1;33m\u001b[0m\u001b[0m\n\u001b[0;32m      5\u001b[0m \u001b[0mjapanese_rest_stats_ny\u001b[0m\u001b[1;33m.\u001b[0m\u001b[0mgroupby\u001b[0m\u001b[1;33m(\u001b[0m\u001b[1;34m'Borough'\u001b[0m\u001b[1;33m)\u001b[0m\u001b[1;33m.\u001b[0m\u001b[0mmean\u001b[0m\u001b[1;33m(\u001b[0m\u001b[1;33m)\u001b[0m\u001b[1;33m[\u001b[0m\u001b[1;34m'Rating'\u001b[0m\u001b[1;33m]\u001b[0m\u001b[1;33m.\u001b[0m\u001b[0mplot\u001b[0m\u001b[1;33m(\u001b[0m\u001b[0mkind\u001b[0m\u001b[1;33m=\u001b[0m\u001b[1;34m'bar'\u001b[0m\u001b[1;33m,\u001b[0m \u001b[0mcolor\u001b[0m\u001b[1;33m=\u001b[0m\u001b[0mclr\u001b[0m\u001b[1;33m)\u001b[0m\u001b[1;33m\u001b[0m\u001b[1;33m\u001b[0m\u001b[0m\n",
      "\u001b[1;31mNameError\u001b[0m: name 'plt' is not defined"
     ]
    }
   ],
   "source": [
    "plt.figure(figsize=(9,5), dpi = 100)\n",
    "plt.title('Average rating of Japanese Restaurants for each Borough')\n",
    "plt.xlabel('Borough', fontsize = 15)\n",
    "plt.ylabel('Average Rating', fontsize=15)\n",
    "japanese_rest_stats_ny.groupby('Borough').mean()['Rating'].plot(kind='bar', color=clr)\n",
    "plt.legend()\n",
    "plt.show()"
   ]
  },
  {
   "cell_type": "code",
   "execution_count": 26,
   "metadata": {},
   "outputs": [
    {
     "data": {
      "text/html": [
       "<div>\n",
       "<style scoped>\n",
       "    .dataframe tbody tr th:only-of-type {\n",
       "        vertical-align: middle;\n",
       "    }\n",
       "\n",
       "    .dataframe tbody tr th {\n",
       "        vertical-align: top;\n",
       "    }\n",
       "\n",
       "    .dataframe thead th {\n",
       "        text-align: right;\n",
       "    }\n",
       "</style>\n",
       "<table border=\"1\" class=\"dataframe\">\n",
       "  <thead>\n",
       "    <tr style=\"text-align: right;\">\n",
       "      <th></th>\n",
       "      <th>Neighborhood</th>\n",
       "      <th>Average Rating</th>\n",
       "    </tr>\n",
       "  </thead>\n",
       "  <tbody>\n",
       "    <tr>\n",
       "      <th>1</th>\n",
       "      <td>Prospect Heights</td>\n",
       "      <td>8.4</td>\n",
       "    </tr>\n",
       "  </tbody>\n",
       "</table>\n",
       "</div>"
      ],
      "text/plain": [
       "       Neighborhood  Average Rating\n",
       "1  Prospect Heights             8.4"
      ]
     },
     "execution_count": 26,
     "metadata": {},
     "output_type": "execute_result"
    }
   ],
   "source": [
    "\n",
    "ny_neighborhood_stats=ny_neighborhood_stats[ny_neighborhood_stats['Average Rating']>=8.0]\n",
    "ny_neighborhood_stats"
   ]
  },
  {
   "cell_type": "code",
   "execution_count": 27,
   "metadata": {},
   "outputs": [
    {
     "data": {
      "text/html": [
       "<div>\n",
       "<style scoped>\n",
       "    .dataframe tbody tr th:only-of-type {\n",
       "        vertical-align: middle;\n",
       "    }\n",
       "\n",
       "    .dataframe tbody tr th {\n",
       "        vertical-align: top;\n",
       "    }\n",
       "\n",
       "    .dataframe thead th {\n",
       "        text-align: right;\n",
       "    }\n",
       "</style>\n",
       "<table border=\"1\" class=\"dataframe\">\n",
       "  <thead>\n",
       "    <tr style=\"text-align: right;\">\n",
       "      <th></th>\n",
       "      <th>Borough</th>\n",
       "      <th>Neighborhood</th>\n",
       "      <th>Latitude</th>\n",
       "      <th>Longitude</th>\n",
       "      <th>Average Rating</th>\n",
       "    </tr>\n",
       "  </thead>\n",
       "  <tbody>\n",
       "    <tr>\n",
       "      <th>0</th>\n",
       "      <td>Brooklyn</td>\n",
       "      <td>Prospect Heights</td>\n",
       "      <td>40.676822</td>\n",
       "      <td>-73.964859</td>\n",
       "      <td>8.4</td>\n",
       "    </tr>\n",
       "  </tbody>\n",
       "</table>\n",
       "</div>"
      ],
      "text/plain": [
       "    Borough      Neighborhood   Latitude  Longitude  Average Rating\n",
       "0  Brooklyn  Prospect Heights  40.676822 -73.964859             8.4"
      ]
     },
     "execution_count": 27,
     "metadata": {},
     "output_type": "execute_result"
    }
   ],
   "source": [
    "ny_neighborhood_stats=pd.merge(ny_neighborhood_stats,ny_data, on='Neighborhood')\n",
    "ny_neighborhood_stats=ny_neighborhood_stats[['Borough','Neighborhood','Latitude','Longitude','Average Rating']]\n",
    "ny_neighborhood_stats"
   ]
  },
  {
   "cell_type": "code",
   "execution_count": 28,
   "metadata": {},
   "outputs": [
    {
     "ename": "NameError",
     "evalue": "name 'Nominatim' is not defined",
     "output_type": "error",
     "traceback": [
      "\u001b[1;31m---------------------------------------------------------------------------\u001b[0m",
      "\u001b[1;31mNameError\u001b[0m                                 Traceback (most recent call last)",
      "\u001b[1;32m<ipython-input-28-42b9e8fe9be0>\u001b[0m in \u001b[0;36m<module>\u001b[1;34m\u001b[0m\n\u001b[0;32m      1\u001b[0m \u001b[1;31m# create map and display it\u001b[0m\u001b[1;33m\u001b[0m\u001b[1;33m\u001b[0m\u001b[1;33m\u001b[0m\u001b[0m\n\u001b[1;32m----> 2\u001b[1;33m \u001b[0mny_map\u001b[0m \u001b[1;33m=\u001b[0m \u001b[0mfolium\u001b[0m\u001b[1;33m.\u001b[0m\u001b[0mMap\u001b[0m\u001b[1;33m(\u001b[0m\u001b[0mlocation\u001b[0m\u001b[1;33m=\u001b[0m\u001b[0mgeo_location\u001b[0m\u001b[1;33m(\u001b[0m\u001b[1;34m'New York'\u001b[0m\u001b[1;33m)\u001b[0m\u001b[1;33m,\u001b[0m \u001b[0mzoom_start\u001b[0m\u001b[1;33m=\u001b[0m\u001b[1;36m12\u001b[0m\u001b[1;33m)\u001b[0m\u001b[1;33m\u001b[0m\u001b[1;33m\u001b[0m\u001b[0m\n\u001b[0m\u001b[0;32m      3\u001b[0m \u001b[1;31m# instantiate a feature group for the ratings in the dataframe\u001b[0m\u001b[1;33m\u001b[0m\u001b[1;33m\u001b[0m\u001b[1;33m\u001b[0m\u001b[0m\n\u001b[0;32m      4\u001b[0m \u001b[0mrating\u001b[0m \u001b[1;33m=\u001b[0m \u001b[0mfolium\u001b[0m\u001b[1;33m.\u001b[0m\u001b[0mmap\u001b[0m\u001b[1;33m.\u001b[0m\u001b[0mFeatureGroup\u001b[0m\u001b[1;33m(\u001b[0m\u001b[1;33m)\u001b[0m\u001b[1;33m\u001b[0m\u001b[1;33m\u001b[0m\u001b[0m\n\u001b[0;32m      5\u001b[0m \u001b[1;33m\u001b[0m\u001b[0m\n",
      "\u001b[1;32m<ipython-input-3-ead3146b11c0>\u001b[0m in \u001b[0;36mgeo_location\u001b[1;34m(address)\u001b[0m\n\u001b[0;32m      1\u001b[0m \u001b[1;32mdef\u001b[0m \u001b[0mgeo_location\u001b[0m\u001b[1;33m(\u001b[0m\u001b[0maddress\u001b[0m\u001b[1;33m)\u001b[0m\u001b[1;33m:\u001b[0m\u001b[1;33m\u001b[0m\u001b[1;33m\u001b[0m\u001b[0m\n\u001b[0;32m      2\u001b[0m     \u001b[1;31m# get geo location of address\u001b[0m\u001b[1;33m\u001b[0m\u001b[1;33m\u001b[0m\u001b[1;33m\u001b[0m\u001b[0m\n\u001b[1;32m----> 3\u001b[1;33m     \u001b[0mgeolocator\u001b[0m \u001b[1;33m=\u001b[0m \u001b[0mNominatim\u001b[0m\u001b[1;33m(\u001b[0m\u001b[0muser_agent\u001b[0m\u001b[1;33m=\u001b[0m\u001b[1;34m\"foursquare_agent\"\u001b[0m\u001b[1;33m)\u001b[0m\u001b[1;33m\u001b[0m\u001b[1;33m\u001b[0m\u001b[0m\n\u001b[0m\u001b[0;32m      4\u001b[0m     \u001b[0mlocation\u001b[0m \u001b[1;33m=\u001b[0m \u001b[0mgeolocator\u001b[0m\u001b[1;33m.\u001b[0m\u001b[0mgeocode\u001b[0m\u001b[1;33m(\u001b[0m\u001b[0maddress\u001b[0m\u001b[1;33m)\u001b[0m\u001b[1;33m\u001b[0m\u001b[1;33m\u001b[0m\u001b[0m\n\u001b[0;32m      5\u001b[0m     \u001b[0mlatitude\u001b[0m \u001b[1;33m=\u001b[0m \u001b[0mlocation\u001b[0m\u001b[1;33m.\u001b[0m\u001b[0mlatitude\u001b[0m\u001b[1;33m\u001b[0m\u001b[1;33m\u001b[0m\u001b[0m\n",
      "\u001b[1;31mNameError\u001b[0m: name 'Nominatim' is not defined"
     ]
    }
   ],
   "source": [
    "# create map and display it\n",
    "ny_map = folium.Map(location=geo_location('New York'), zoom_start=12)\n",
    "# instantiate a feature group for the ratings in the dataframe\n",
    "rating = folium.map.FeatureGroup()\n",
    "\n",
    "# loop through the ratings and add each to the neighborhood feature group\n",
    "for lat, lng, in ny_neighborhood_stats[['Latitude','Longitude']].values:\n",
    "    rating.add_child(\n",
    "        folium.CircleMarker(\n",
    "            [lat, lng],\n",
    "            radius=10, # define how big you want the circle markers to be\n",
    "            color='yellow',\n",
    "            fill=True,\n",
    "            fill_color='blue',\n",
    "            fill_opacity=0.6\n",
    "        )\n",
    "    )"
   ]
  },
  {
   "cell_type": "code",
   "execution_count": 29,
   "metadata": {},
   "outputs": [
    {
     "ename": "NameError",
     "evalue": "name 'ny_map' is not defined",
     "output_type": "error",
     "traceback": [
      "\u001b[1;31m---------------------------------------------------------------------------\u001b[0m",
      "\u001b[1;31mNameError\u001b[0m                                 Traceback (most recent call last)",
      "\u001b[1;32m<ipython-input-29-1ff30fc7b4b6>\u001b[0m in \u001b[0;36m<module>\u001b[1;34m\u001b[0m\n\u001b[0;32m      2\u001b[0m \u001b[1;31m# add pop-up text to each marker on the map\u001b[0m\u001b[1;33m\u001b[0m\u001b[1;33m\u001b[0m\u001b[1;33m\u001b[0m\u001b[0m\n\u001b[0;32m      3\u001b[0m \u001b[1;32mfor\u001b[0m \u001b[0mlat\u001b[0m\u001b[1;33m,\u001b[0m \u001b[0mlng\u001b[0m\u001b[1;33m,\u001b[0m \u001b[0mlabel\u001b[0m \u001b[1;32min\u001b[0m \u001b[0mny_neighborhood_stats\u001b[0m\u001b[1;33m[\u001b[0m\u001b[1;33m[\u001b[0m\u001b[1;34m'Latitude'\u001b[0m\u001b[1;33m,\u001b[0m\u001b[1;34m'Longitude'\u001b[0m\u001b[1;33m,\u001b[0m\u001b[1;34m'Label'\u001b[0m\u001b[1;33m]\u001b[0m\u001b[1;33m]\u001b[0m\u001b[1;33m.\u001b[0m\u001b[0mvalues\u001b[0m\u001b[1;33m:\u001b[0m\u001b[1;33m\u001b[0m\u001b[1;33m\u001b[0m\u001b[0m\n\u001b[1;32m----> 4\u001b[1;33m     \u001b[0mfolium\u001b[0m\u001b[1;33m.\u001b[0m\u001b[0mMarker\u001b[0m\u001b[1;33m(\u001b[0m\u001b[1;33m[\u001b[0m\u001b[0mlat\u001b[0m\u001b[1;33m,\u001b[0m \u001b[0mlng\u001b[0m\u001b[1;33m]\u001b[0m\u001b[1;33m,\u001b[0m \u001b[0mpopup\u001b[0m\u001b[1;33m=\u001b[0m\u001b[0mlabel\u001b[0m\u001b[1;33m)\u001b[0m\u001b[1;33m.\u001b[0m\u001b[0madd_to\u001b[0m\u001b[1;33m(\u001b[0m\u001b[0mny_map\u001b[0m\u001b[1;33m)\u001b[0m\u001b[1;33m\u001b[0m\u001b[1;33m\u001b[0m\u001b[0m\n\u001b[0m\u001b[0;32m      5\u001b[0m \u001b[1;31m# add ratings to map\u001b[0m\u001b[1;33m\u001b[0m\u001b[1;33m\u001b[0m\u001b[1;33m\u001b[0m\u001b[0m\n\u001b[0;32m      6\u001b[0m \u001b[0mny_map\u001b[0m\u001b[1;33m.\u001b[0m\u001b[0madd_child\u001b[0m\u001b[1;33m(\u001b[0m\u001b[0mrating\u001b[0m\u001b[1;33m)\u001b[0m\u001b[1;33m\u001b[0m\u001b[1;33m\u001b[0m\u001b[0m\n",
      "\u001b[1;31mNameError\u001b[0m: name 'ny_map' is not defined"
     ]
    }
   ],
   "source": [
    "ny_neighborhood_stats['Label']=ny_neighborhood_stats['Neighborhood']+', '+ny_neighborhood_stats['Borough']+'('+ny_neighborhood_stats['Average Rating'].map(str)+')'\n",
    "# add pop-up text to each marker on the map\n",
    "for lat, lng, label in ny_neighborhood_stats[['Latitude','Longitude','Label']].values:\n",
    "    folium.Marker([lat, lng], popup=label).add_to(ny_map)        \n",
    "# add ratings to map\n",
    "ny_map.add_child(rating)"
   ]
  },
  {
   "cell_type": "markdown",
   "metadata": {},
   "source": [
    "### Results / Conclusion"
   ]
  },
  {
   "cell_type": "markdown",
   "metadata": {},
   "source": [
    "Manhattan and Brooklyn have the best rated Japanese restaurants on average. Staten Island and The Bronx have the least amount of Japanese restaurants per borough. However, of note, Murray Hill in Manhattan has the highest number of Japanese Restaurants in all of NY. Despite Manhattan having the least number of neighborhoods in all five boroughs, it has the most number of Japanese restaurants. Based on the above information, I would state that Manhattan and Brooklyn are the best locations for Japanese cuisine in NYC. To have the best shot of success, I would open a Japanese restaurant in Brooklyn. Brooklyn has multiple neighborhoods with average ratings exceeding 8.0 on a scale of 1.0 to 10.0 and has less amount of Japanese restaurants than Manhattan, making competition easier. Also we should keep in mind, that real estate prices in Brooklyn are much cheaper than in Manhattan. Finally, I would go to OOTOYA in Manhattan for the best Japanese food based on 1213 likes. As a final note, all of the above analysis is depended on the accuracy of Four Square data. A more comprehensive analysis and future work would need to incorporate data from other external databases."
   ]
  },
  {
   "cell_type": "code",
   "execution_count": null,
   "metadata": {},
   "outputs": [],
   "source": []
  }
 ],
 "metadata": {
  "kernelspec": {
   "display_name": "Python 3",
   "language": "python",
   "name": "python3"
  },
  "language_info": {
   "codemirror_mode": {
    "name": "ipython",
    "version": 3
   },
   "file_extension": ".py",
   "mimetype": "text/x-python",
   "name": "python",
   "nbconvert_exporter": "python",
   "pygments_lexer": "ipython3",
   "version": "3.7.6"
  }
 },
 "nbformat": 4,
 "nbformat_minor": 4
}
